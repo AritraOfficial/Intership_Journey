{
 "cells": [
  {
   "cell_type": "code",
   "execution_count": 38,
   "id": "b5fa4269",
   "metadata": {},
   "outputs": [],
   "source": [
    "import numpy as np\n",
    "import pandas as pd"
   ]
  },
  {
   "cell_type": "code",
   "execution_count": 93,
   "id": "1dc4814d",
   "metadata": {},
   "outputs": [
    {
     "data": {
      "text/html": [
       "<div>\n",
       "<style scoped>\n",
       "    .dataframe tbody tr th:only-of-type {\n",
       "        vertical-align: middle;\n",
       "    }\n",
       "\n",
       "    .dataframe tbody tr th {\n",
       "        vertical-align: top;\n",
       "    }\n",
       "\n",
       "    .dataframe thead th {\n",
       "        text-align: right;\n",
       "    }\n",
       "</style>\n",
       "<table border=\"1\" class=\"dataframe\">\n",
       "  <thead>\n",
       "    <tr style=\"text-align: right;\">\n",
       "      <th></th>\n",
       "      <th>32.502345269453031</th>\n",
       "      <th>31.70700584656992</th>\n",
       "    </tr>\n",
       "  </thead>\n",
       "  <tbody>\n",
       "    <tr>\n",
       "      <th>0</th>\n",
       "      <td>53.426804</td>\n",
       "      <td>68.777596</td>\n",
       "    </tr>\n",
       "    <tr>\n",
       "      <th>1</th>\n",
       "      <td>61.530358</td>\n",
       "      <td>62.562382</td>\n",
       "    </tr>\n",
       "    <tr>\n",
       "      <th>2</th>\n",
       "      <td>47.475640</td>\n",
       "      <td>71.546632</td>\n",
       "    </tr>\n",
       "    <tr>\n",
       "      <th>3</th>\n",
       "      <td>59.813208</td>\n",
       "      <td>87.230925</td>\n",
       "    </tr>\n",
       "    <tr>\n",
       "      <th>4</th>\n",
       "      <td>55.142188</td>\n",
       "      <td>78.211518</td>\n",
       "    </tr>\n",
       "    <tr>\n",
       "      <th>...</th>\n",
       "      <td>...</td>\n",
       "      <td>...</td>\n",
       "    </tr>\n",
       "    <tr>\n",
       "      <th>94</th>\n",
       "      <td>50.030174</td>\n",
       "      <td>81.536991</td>\n",
       "    </tr>\n",
       "    <tr>\n",
       "      <th>95</th>\n",
       "      <td>49.239765</td>\n",
       "      <td>72.111832</td>\n",
       "    </tr>\n",
       "    <tr>\n",
       "      <th>96</th>\n",
       "      <td>50.039576</td>\n",
       "      <td>85.232007</td>\n",
       "    </tr>\n",
       "    <tr>\n",
       "      <th>97</th>\n",
       "      <td>48.149859</td>\n",
       "      <td>66.224958</td>\n",
       "    </tr>\n",
       "    <tr>\n",
       "      <th>98</th>\n",
       "      <td>25.128485</td>\n",
       "      <td>53.454394</td>\n",
       "    </tr>\n",
       "  </tbody>\n",
       "</table>\n",
       "<p>99 rows × 2 columns</p>\n",
       "</div>"
      ],
      "text/plain": [
       "    32.502345269453031  31.70700584656992\n",
       "0            53.426804          68.777596\n",
       "1            61.530358          62.562382\n",
       "2            47.475640          71.546632\n",
       "3            59.813208          87.230925\n",
       "4            55.142188          78.211518\n",
       "..                 ...                ...\n",
       "94           50.030174          81.536991\n",
       "95           49.239765          72.111832\n",
       "96           50.039576          85.232007\n",
       "97           48.149859          66.224958\n",
       "98           25.128485          53.454394\n",
       "\n",
       "[99 rows x 2 columns]"
      ]
     },
     "execution_count": 93,
     "metadata": {},
     "output_type": "execute_result"
    }
   ],
   "source": [
    "df = pd.read_csv(\"data.csv\")\n",
    "df"
   ]
  },
  {
   "cell_type": "code",
   "execution_count": 130,
   "id": "118c7d8c",
   "metadata": {},
   "outputs": [],
   "source": [
    "# def fit(X_train,y_train):\n",
    "    \n",
    "#         num = 0\n",
    "#         den = 0\n",
    "        \n",
    "#         for i in range(X_train.shape[0]):    #X_train.shape[0] - len of x, shape[0]= number of rows. | Shape return the hole tupple , shape[0] return row \n",
    "\n",
    "#             num = num + ((X_train[i] - X_train.mean())*(y_train[i] - y_train.mean()))\n",
    "#             den = den + ((X_train[i] - X_train.mean())*(X_train[i] - X_train.mean()))\n",
    "# #             den = den + ((X_train[i] - X_train.mean())**2\n",
    "#         cofe_ = num/den\n",
    "#         intercept_ = (y_train.mean() - ((cofe_)*X_train.mean()))\n",
    "\n",
    "#         print(\"m = \",cofe_)\n",
    "#         print(\"b = \",intercept_)"
   ]
  },
  {
   "cell_type": "code",
   "execution_count": 131,
   "id": "085ad263",
   "metadata": {},
   "outputs": [],
   "source": [
    "def fit(X_train,y_train):\n",
    "    \n",
    "        num = 0\n",
    "        den = 0\n",
    "        \n",
    "        for i in range(X_train.shape[0]):    #X_train.shape[0] - len of x, shape[0]= number of rows. | Shape return the hole tupple , shape[0] return row \n",
    "\n",
    "            num = num + ((X_train[i] - X_train.mean())*(y_train[i] - y_train.mean()))\n",
    "            den = den + ((X_train[i] - X_train.mean())*(X_train[i] - X_train.mean()))\n",
    "\n",
    "        m = num/den\n",
    "        c = (y_train.mean() - ((m)*X_train.mean()))\n",
    "\n",
    "       \n",
    "        return m,c"
   ]
  },
  {
   "cell_type": "code",
   "execution_count": 132,
   "id": "05bb22a0",
   "metadata": {},
   "outputs": [],
   "source": [
    "X = df.iloc[:,0].values\n",
    "y = df.iloc[:,1].values"
   ]
  },
  {
   "cell_type": "code",
   "execution_count": 133,
   "id": "a74afa2b",
   "metadata": {},
   "outputs": [],
   "source": [
    "from sklearn.model_selection import train_test_split\n",
    "\n",
    "X_train,X_test,y_train,y_test = train_test_split(X,y,test_size=0.2,random_state=46)"
   ]
  },
  {
   "cell_type": "code",
   "execution_count": 134,
   "id": "ec223bac",
   "metadata": {},
   "outputs": [
    {
     "data": {
      "text/plain": [
       "(1.1858223218296922, 14.713764388326432)"
      ]
     },
     "execution_count": 134,
     "metadata": {},
     "output_type": "execute_result"
    }
   ],
   "source": [
    "fit(X_train,y_train)"
   ]
  },
  {
   "cell_type": "markdown",
   "id": "bd06edaa",
   "metadata": {},
   "source": [
    "Class Questions "
   ]
  },
  {
   "cell_type": "code",
   "execution_count": 135,
   "id": "bff077d0",
   "metadata": {},
   "outputs": [
    {
     "data": {
      "text/html": [
       "<div>\n",
       "<style scoped>\n",
       "    .dataframe tbody tr th:only-of-type {\n",
       "        vertical-align: middle;\n",
       "    }\n",
       "\n",
       "    .dataframe tbody tr th {\n",
       "        vertical-align: top;\n",
       "    }\n",
       "\n",
       "    .dataframe thead th {\n",
       "        text-align: right;\n",
       "    }\n",
       "</style>\n",
       "<table border=\"1\" class=\"dataframe\">\n",
       "  <thead>\n",
       "    <tr style=\"text-align: right;\">\n",
       "      <th></th>\n",
       "      <th>0</th>\n",
       "    </tr>\n",
       "  </thead>\n",
       "  <tbody>\n",
       "    <tr>\n",
       "      <th>0</th>\n",
       "      <td>7</td>\n",
       "    </tr>\n",
       "    <tr>\n",
       "      <th>1</th>\n",
       "      <td>8</td>\n",
       "    </tr>\n",
       "    <tr>\n",
       "      <th>2</th>\n",
       "      <td>9</td>\n",
       "    </tr>\n",
       "    <tr>\n",
       "      <th>3</th>\n",
       "      <td>10</td>\n",
       "    </tr>\n",
       "    <tr>\n",
       "      <th>4</th>\n",
       "      <td>11</td>\n",
       "    </tr>\n",
       "  </tbody>\n",
       "</table>\n",
       "</div>"
      ],
      "text/plain": [
       "    0\n",
       "0   7\n",
       "1   8\n",
       "2   9\n",
       "3  10\n",
       "4  11"
      ]
     },
     "execution_count": 135,
     "metadata": {},
     "output_type": "execute_result"
    }
   ],
   "source": [
    "#list 7 elements 7,8,9,10,11, at index 0 element is 7,8,9,10,11 \n",
    "l = [7,8,9,10,11]\n",
    "f = pd.DataFrame(l)\n",
    "f\n"
   ]
  },
  {
   "cell_type": "code",
   "execution_count": 136,
   "id": "984cc920",
   "metadata": {},
   "outputs": [
    {
     "name": "stdout",
     "output_type": "stream",
     "text": [
      "0    7\n",
      "Name: 0, dtype: int64\n",
      "0    8\n",
      "Name: 1, dtype: int64\n",
      "0    9\n",
      "Name: 2, dtype: int64\n",
      "0    10\n",
      "Name: 3, dtype: int64\n",
      "0    11\n",
      "Name: 4, dtype: int64\n"
     ]
    }
   ],
   "source": [
    "l = [7,8,9,10,11]\n",
    "f = pd.DataFrame(l)\n",
    "for i  in range(len(f)):\n",
    "    print(f.loc[i])"
   ]
  },
  {
   "cell_type": "code",
   "execution_count": 137,
   "id": "ebb6d0be",
   "metadata": {},
   "outputs": [
    {
     "name": "stdout",
     "output_type": "stream",
     "text": [
      "(0, 7)\n",
      "(1, 8)\n",
      "(2, 9)\n",
      "(3, 10)\n",
      "(4, 11)\n"
     ]
    }
   ],
   "source": [
    "l = [7,8,9,10,11]\n",
    "for i in range(len(l)):\n",
    "#     print(format((i,l[i])))\n",
    "      print(((i,l[i])))"
   ]
  },
  {
   "cell_type": "code",
   "execution_count": 138,
   "id": "1e08db2e",
   "metadata": {},
   "outputs": [
    {
     "name": "stdout",
     "output_type": "stream",
     "text": [
      "0 7\n",
      "1 8\n",
      "2 9\n",
      "3 10\n",
      "4 11\n",
      "5 12\n"
     ]
    }
   ],
   "source": [
    "l = [7,8,9,10,11,12]\n",
    "for i in range(len(l)):\n",
    "    print(i,l[i])"
   ]
  }
 ],
 "metadata": {
  "kernelspec": {
   "display_name": "Python 3 (ipykernel)",
   "language": "python",
   "name": "python3"
  },
  "language_info": {
   "codemirror_mode": {
    "name": "ipython",
    "version": 3
   },
   "file_extension": ".py",
   "mimetype": "text/x-python",
   "name": "python",
   "nbconvert_exporter": "python",
   "pygments_lexer": "ipython3",
   "version": "3.9.13"
  }
 },
 "nbformat": 4,
 "nbformat_minor": 5
}
