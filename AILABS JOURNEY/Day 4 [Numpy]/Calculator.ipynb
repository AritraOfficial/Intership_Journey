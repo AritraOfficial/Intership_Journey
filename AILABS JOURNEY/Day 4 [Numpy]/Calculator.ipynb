{
 "cells": [
  {
   "cell_type": "code",
   "execution_count": 5,
   "id": "ae661eb1",
   "metadata": {},
   "outputs": [],
   "source": [
    "import Collection"
   ]
  },
  {
   "cell_type": "code",
   "execution_count": 8,
   "id": "8d528baf",
   "metadata": {},
   "outputs": [
    {
     "data": {
      "text/plain": [
       "9"
      ]
     },
     "execution_count": 8,
     "metadata": {},
     "output_type": "execute_result"
    }
   ],
   "source": [
    "Collection.add(4,5)"
   ]
  },
  {
   "cell_type": "code",
   "execution_count": 13,
   "id": "065ee9bc",
   "metadata": {},
   "outputs": [],
   "source": [
    "import Collection as col"
   ]
  },
  {
   "cell_type": "code",
   "execution_count": 16,
   "id": "60b753cd",
   "metadata": {},
   "outputs": [
    {
     "data": {
      "text/plain": [
       "1"
      ]
     },
     "execution_count": 16,
     "metadata": {},
     "output_type": "execute_result"
    }
   ],
   "source": [
    "col.subtract(5,4)"
   ]
  },
  {
   "cell_type": "code",
   "execution_count": 10,
   "id": "80c8612c",
   "metadata": {},
   "outputs": [],
   "source": [
    "from Collection import multiply"
   ]
  },
  {
   "cell_type": "code",
   "execution_count": 19,
   "id": "a0a5cc96",
   "metadata": {},
   "outputs": [
    {
     "data": {
      "text/plain": [
       "20"
      ]
     },
     "execution_count": 19,
     "metadata": {},
     "output_type": "execute_result"
    }
   ],
   "source": [
    "multiply(4,5)"
   ]
  },
  {
   "cell_type": "code",
   "execution_count": 20,
   "id": "74cf52c0",
   "metadata": {},
   "outputs": [],
   "source": [
    "import os"
   ]
  },
  {
   "cell_type": "code",
   "execution_count": 24,
   "id": "49efc440",
   "metadata": {},
   "outputs": [],
   "source": [
    "c=os.getcwd()"
   ]
  },
  {
   "cell_type": "code",
   "execution_count": 25,
   "id": "e905cf26",
   "metadata": {},
   "outputs": [
    {
     "data": {
      "text/plain": [
       "'E:\\\\University Ofiicial\\\\3RD YEAR\\\\AILABS JOURNEY\\\\Day  4'"
      ]
     },
     "execution_count": 25,
     "metadata": {},
     "output_type": "execute_result"
    }
   ],
   "source": [
    "c"
   ]
  },
  {
   "cell_type": "code",
   "execution_count": null,
   "id": "235dc971",
   "metadata": {},
   "outputs": [],
   "source": []
  }
 ],
 "metadata": {
  "kernelspec": {
   "display_name": "Python 3 (ipykernel)",
   "language": "python",
   "name": "python3"
  },
  "language_info": {
   "codemirror_mode": {
    "name": "ipython",
    "version": 3
   },
   "file_extension": ".py",
   "mimetype": "text/x-python",
   "name": "python",
   "nbconvert_exporter": "python",
   "pygments_lexer": "ipython3",
   "version": "3.9.13"
  }
 },
 "nbformat": 4,
 "nbformat_minor": 5
}
