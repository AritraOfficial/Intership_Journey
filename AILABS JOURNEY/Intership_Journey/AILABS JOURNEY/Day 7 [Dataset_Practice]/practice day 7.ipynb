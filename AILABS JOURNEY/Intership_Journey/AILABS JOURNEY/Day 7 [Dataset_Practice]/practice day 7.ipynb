{
 "cells": [
  {
   "cell_type": "code",
   "execution_count": 1,
   "id": "df036b27",
   "metadata": {},
   "outputs": [],
   "source": [
    "import pandas as pd"
   ]
  },
  {
   "cell_type": "code",
   "execution_count": null,
   "id": "0e0a897e",
   "metadata": {},
   "outputs": [],
   "source": [
    "ls"
   ]
  },
  {
   "cell_type": "code",
   "execution_count": null,
   "id": "16509e9c",
   "metadata": {},
   "outputs": [],
   "source": [
    "pd.read_csv(\"address.csv.csv\")"
   ]
  },
  {
   "cell_type": "code",
   "execution_count": null,
   "id": "7b1b09c2",
   "metadata": {},
   "outputs": [],
   "source": [
    "pd.read_csv(r\"D:\\python\\AILABS\\Day 7 30.06.2023\\address.csv.csv\")"
   ]
  },
  {
   "cell_type": "code",
   "execution_count": null,
   "id": "a5377c38",
   "metadata": {},
   "outputs": [],
   "source": [
    "pd.read_csv(r\"D:\\python\\AILABS\\Day 7 30.06.2023\\address.csv.csv\",header = None)"
   ]
  },
  {
   "cell_type": "code",
   "execution_count": null,
   "id": "86ee7154",
   "metadata": {},
   "outputs": [],
   "source": [
    "pd.read_csv(r\"D:\\python\\AILABS\\Day 7 30.06.2023\\address.csv.csv\",names = [\"a\",\"b\",\"c\",\"d\",\"e\",\"f\",\"g\",\"h\"])\n",
    "# names helps  to change"
   ]
  },
  {
   "cell_type": "code",
   "execution_count": null,
   "id": "e141fdad",
   "metadata": {},
   "outputs": [],
   "source": [
    "pd.read_csv(r\"D:\\python\\AILABS\\Day 7 30.06.2023\\address.csv.csv\",names = [\"a\",\"b\",\"c\",\"d\",\"e\",\"f\",\"g\",\"h\"])"
   ]
  },
  {
   "cell_type": "code",
   "execution_count": null,
   "id": "872f6df0",
   "metadata": {},
   "outputs": [],
   "source": [
    "pd.read_csv(r\"D:\\python\\AILABS\\Day 7 30.06.2023\\address.csv.csv\",names = [\"d\",\"e\",\"f\",\"g\",\"h\"])"
   ]
  },
  {
   "cell_type": "code",
   "execution_count": null,
   "id": "75b698c3",
   "metadata": {},
   "outputs": [],
   "source": [
    "pd.read_csv(r\"D:\\python\\AILABS\\Day 7 30.06.2023\\address.csv.csv\",names = [\"d\",\"e\",\"f\",\"g\",\"h\"]).head(2)"
   ]
  },
  {
   "cell_type": "code",
   "execution_count": null,
   "id": "cfa4a77d",
   "metadata": {},
   "outputs": [],
   "source": [
    "pd.read_csv(r\"D:\\python\\AILABS\\Day 7 30.06.2023\\address.csv.csv\",names = [\"a\",\"b\",\"c\",\"d\",\"e\",\"f\",\"g\",\"h\"]).head(2)"
   ]
  },
  {
   "cell_type": "code",
   "execution_count": null,
   "id": "45685afd",
   "metadata": {},
   "outputs": [],
   "source": [
    "pd.read_csv(r\"D:\\python\\AILABS\\Day 7 30.06.2023\\address.csv.csv\",names = [\"d\",\"e\",\"f\",\"g\",\"h\"]).index"
   ]
  },
  {
   "cell_type": "code",
   "execution_count": null,
   "id": "60f942be",
   "metadata": {},
   "outputs": [],
   "source": [
    "pd.read_csv(r\"D:\\python\\AILABS\\Day 7 30.06.2023\\address.csv.csv\",names = [\"a\",\"b\",\"c\",\"d\",\"e\",\"f\",\"g\",\"h\"]).index"
   ]
  },
  {
   "cell_type": "code",
   "execution_count": null,
   "id": "41a6d2fb",
   "metadata": {},
   "outputs": [],
   "source": [
    "df = pd.read_csv(r\"D:\\python\\AILABS\\Day 7 30.06.2023\\address.csv.csv\",names = [\"a\",\"b\",\"c\",\"d\",\"e\",\"f\",\"g\",\"h\"])\n",
    "df[0:6][\"a\"]"
   ]
  },
  {
   "cell_type": "code",
   "execution_count": null,
   "id": "8d3c5c0b",
   "metadata": {},
   "outputs": [],
   "source": [
    "pd.read_csv(r\"D:\\python\\AILABS\\Day 7 30.06.2023\\address.csv.csv\",names = []).head(2)"
   ]
  },
  {
   "cell_type": "code",
   "execution_count": null,
   "id": "ce7cab60",
   "metadata": {},
   "outputs": [],
   "source": [
    "df.dtypes"
   ]
  },
  {
   "cell_type": "code",
   "execution_count": null,
   "id": "6ce04718",
   "metadata": {},
   "outputs": [],
   "source": [
    "df.columns"
   ]
  },
  {
   "cell_type": "code",
   "execution_count": null,
   "id": "dccebf7a",
   "metadata": {},
   "outputs": [],
   "source": [
    "df[[\"e\",\"f\"]][:4]"
   ]
  },
  {
   "cell_type": "code",
   "execution_count": null,
   "id": "250b405b",
   "metadata": {},
   "outputs": [],
   "source": [
    "df1 = pd.read_html(\"https://www.basketball-reference.com/leagues/NBA_2015_totals.html\")\n",
    "df1"
   ]
  },
  {
   "cell_type": "code",
   "execution_count": null,
   "id": "c42b1216",
   "metadata": {},
   "outputs": [],
   "source": [
    "type(df1)"
   ]
  },
  {
   "cell_type": "code",
   "execution_count": null,
   "id": "de57b911",
   "metadata": {},
   "outputs": [],
   "source": [
    "df1 = pd.DataFrame(df1[0])"
   ]
  },
  {
   "cell_type": "code",
   "execution_count": null,
   "id": "08d2ee43",
   "metadata": {},
   "outputs": [],
   "source": [
    "df1.shape\n",
    "df1.ndim"
   ]
  },
  {
   "cell_type": "code",
   "execution_count": null,
   "id": "35ecd66d",
   "metadata": {},
   "outputs": [],
   "source": [
    "len(df1)"
   ]
  },
  {
   "cell_type": "code",
   "execution_count": null,
   "id": "250999f0",
   "metadata": {},
   "outputs": [],
   "source": [
    "df1"
   ]
  },
  {
   "cell_type": "code",
   "execution_count": null,
   "id": "6b52af9e",
   "metadata": {},
   "outputs": [],
   "source": [
    "df1.shape"
   ]
  },
  {
   "cell_type": "code",
   "execution_count": null,
   "id": "9d00c190",
   "metadata": {},
   "outputs": [],
   "source": [
    "df2 = pd.read_html(\"https://stats.espncricinfo.com/ci/engine/records/averages/batting.html?class=3;id=6;type=team\")\n",
    "df2"
   ]
  },
  {
   "cell_type": "code",
   "execution_count": null,
   "id": "16c6478d",
   "metadata": {},
   "outputs": [],
   "source": [
    "df2.shape"
   ]
  },
  {
   "cell_type": "code",
   "execution_count": null,
   "id": "03a9e8d0",
   "metadata": {},
   "outputs": [],
   "source": [
    "df2 = pd.DataFrame(df2)\n",
    "df2"
   ]
  },
  {
   "cell_type": "code",
   "execution_count": null,
   "id": "253304d6",
   "metadata": {},
   "outputs": [],
   "source": [
    "df3 = pd.read_excel(\"excel-spreadsheet-examples-for-students.xls\")  \n",
    "df3\n",
    "# by deaflut reading the \"big\" exel file"
   ]
  },
  {
   "cell_type": "code",
   "execution_count": null,
   "id": "5a82b3f8",
   "metadata": {},
   "outputs": [],
   "source": [
    "df8 = pd.read_excel(\"excel-spreadsheet-examples-for-students.xls\",sheet_name=\"short\")  \n",
    "df8\n",
    "# Reading the \"short\" exel file"
   ]
  },
  {
   "cell_type": "code",
   "execution_count": null,
   "id": "e421b802",
   "metadata": {},
   "outputs": [],
   "source": [
    "ls  # printing the directry list (What is present in the directry)"
   ]
  },
  {
   "cell_type": "code",
   "execution_count": null,
   "id": "4643a936",
   "metadata": {},
   "outputs": [],
   "source": [
    "df4 = pd.read_csv(\"weather_city.csv\")\n",
    "df4"
   ]
  },
  {
   "cell_type": "code",
   "execution_count": 6,
   "id": "f15fa5bc",
   "metadata": {},
   "outputs": [
    {
     "data": {
      "text/html": [
       "<div>\n",
       "<style scoped>\n",
       "    .dataframe tbody tr th:only-of-type {\n",
       "        vertical-align: middle;\n",
       "    }\n",
       "\n",
       "    .dataframe tbody tr th {\n",
       "        vertical-align: top;\n",
       "    }\n",
       "\n",
       "    .dataframe thead th {\n",
       "        text-align: right;\n",
       "    }\n",
       "</style>\n",
       "<table border=\"1\" class=\"dataframe\">\n",
       "  <thead>\n",
       "    <tr style=\"text-align: right;\">\n",
       "      <th></th>\n",
       "      <th>day</th>\n",
       "      <th>city</th>\n",
       "      <th>temperature</th>\n",
       "      <th>windspeed</th>\n",
       "      <th>event</th>\n",
       "    </tr>\n",
       "  </thead>\n",
       "  <tbody>\n",
       "    <tr>\n",
       "      <th>0</th>\n",
       "      <td>01-01-2017</td>\n",
       "      <td>new york</td>\n",
       "      <td>32.0</td>\n",
       "      <td>6</td>\n",
       "      <td>Rain</td>\n",
       "    </tr>\n",
       "    <tr>\n",
       "      <th>1</th>\n",
       "      <td>01-02-2017</td>\n",
       "      <td>new york</td>\n",
       "      <td>36.0</td>\n",
       "      <td>7</td>\n",
       "      <td>Sunny</td>\n",
       "    </tr>\n",
       "    <tr>\n",
       "      <th>2</th>\n",
       "      <td>01-03-2017</td>\n",
       "      <td>new york</td>\n",
       "      <td>NaN</td>\n",
       "      <td>12</td>\n",
       "      <td>Snow</td>\n",
       "    </tr>\n",
       "    <tr>\n",
       "      <th>3</th>\n",
       "      <td>01-04-2017</td>\n",
       "      <td>n.a.</td>\n",
       "      <td>NaN</td>\n",
       "      <td>7</td>\n",
       "      <td>NaN</td>\n",
       "    </tr>\n",
       "    <tr>\n",
       "      <th>4</th>\n",
       "      <td>01-01-2017</td>\n",
       "      <td>mumbai</td>\n",
       "      <td>NaN</td>\n",
       "      <td>5</td>\n",
       "      <td>Sunny</td>\n",
       "    </tr>\n",
       "    <tr>\n",
       "      <th>5</th>\n",
       "      <td>01-02-2017</td>\n",
       "      <td>mumbai</td>\n",
       "      <td>85.0</td>\n",
       "      <td>-999</td>\n",
       "      <td>Fog</td>\n",
       "    </tr>\n",
       "    <tr>\n",
       "      <th>6</th>\n",
       "      <td>01-03-2017</td>\n",
       "      <td>mumbai</td>\n",
       "      <td>NaN</td>\n",
       "      <td>15</td>\n",
       "      <td>Fog</td>\n",
       "    </tr>\n",
       "    <tr>\n",
       "      <th>7</th>\n",
       "      <td>01-04-2017</td>\n",
       "      <td>mumbai</td>\n",
       "      <td>92.0</td>\n",
       "      <td>5</td>\n",
       "      <td>Rain</td>\n",
       "    </tr>\n",
       "    <tr>\n",
       "      <th>8</th>\n",
       "      <td>01-01-2017</td>\n",
       "      <td>paris</td>\n",
       "      <td>45.0</td>\n",
       "      <td>20</td>\n",
       "      <td>Sunny</td>\n",
       "    </tr>\n",
       "    <tr>\n",
       "      <th>9</th>\n",
       "      <td>01-02-2017</td>\n",
       "      <td>paris</td>\n",
       "      <td>50.0</td>\n",
       "      <td>13</td>\n",
       "      <td>Cloudy</td>\n",
       "    </tr>\n",
       "    <tr>\n",
       "      <th>10</th>\n",
       "      <td>01-03-2017</td>\n",
       "      <td>paris</td>\n",
       "      <td>54.0</td>\n",
       "      <td>8</td>\n",
       "      <td>NaN</td>\n",
       "    </tr>\n",
       "    <tr>\n",
       "      <th>11</th>\n",
       "      <td>01-04-2017</td>\n",
       "      <td>paris</td>\n",
       "      <td>42.0</td>\n",
       "      <td>-2536</td>\n",
       "      <td>Cloudy</td>\n",
       "    </tr>\n",
       "  </tbody>\n",
       "</table>\n",
       "</div>"
      ],
      "text/plain": [
       "           day      city  temperature  windspeed   event\n",
       "0   01-01-2017  new york         32.0          6    Rain\n",
       "1   01-02-2017  new york         36.0          7   Sunny\n",
       "2   01-03-2017  new york          NaN         12    Snow\n",
       "3   01-04-2017      n.a.          NaN          7     NaN\n",
       "4   01-01-2017    mumbai          NaN          5   Sunny\n",
       "5   01-02-2017    mumbai         85.0       -999     Fog\n",
       "6   01-03-2017    mumbai          NaN         15     Fog\n",
       "7   01-04-2017    mumbai         92.0          5    Rain\n",
       "8   01-01-2017     paris         45.0         20   Sunny\n",
       "9   01-02-2017     paris         50.0         13  Cloudy\n",
       "10  01-03-2017     paris         54.0          8     NaN\n",
       "11  01-04-2017     paris         42.0      -2536  Cloudy"
      ]
     },
     "execution_count": 6,
     "metadata": {},
     "output_type": "execute_result"
    }
   ],
   "source": [
    "df5 = pd.read_csv(\"weather_city_deleted.csv\")\n",
    "df5"
   ]
  },
  {
   "cell_type": "code",
   "execution_count": 2,
   "id": "93dccd80",
   "metadata": {},
   "outputs": [
    {
     "data": {
      "text/plain": [
       "<pandas.io.excel._base.ExcelFile at 0x1952f0c6280>"
      ]
     },
     "execution_count": 2,
     "metadata": {},
     "output_type": "execute_result"
    }
   ],
   "source": [
    "df8 = pd.ExcelFile(\"excel-spreadsheet-examples-for-students.xls\")\n",
    "df8\n",
    "# printing the file location"
   ]
  },
  {
   "cell_type": "code",
   "execution_count": 3,
   "id": "e9398048",
   "metadata": {},
   "outputs": [
    {
     "data": {
      "text/plain": [
       "['big', 'short']"
      ]
     },
     "execution_count": 3,
     "metadata": {},
     "output_type": "execute_result"
    }
   ],
   "source": [
    "sheet_name_list = df8.sheet_names\n",
    "sheet_name_list"
   ]
  },
  {
   "cell_type": "code",
   "execution_count": 4,
   "id": "5718e64a",
   "metadata": {
    "scrolled": true
   },
   "outputs": [
    {
     "data": {
      "text/html": [
       "<div>\n",
       "<style scoped>\n",
       "    .dataframe tbody tr th:only-of-type {\n",
       "        vertical-align: middle;\n",
       "    }\n",
       "\n",
       "    .dataframe tbody tr th {\n",
       "        vertical-align: top;\n",
       "    }\n",
       "\n",
       "    .dataframe thead th {\n",
       "        text-align: right;\n",
       "    }\n",
       "</style>\n",
       "<table border=\"1\" class=\"dataframe\">\n",
       "  <thead>\n",
       "    <tr style=\"text-align: right;\">\n",
       "      <th></th>\n",
       "      <th>First Name</th>\n",
       "      <th>Last Name</th>\n",
       "      <th>Company Name</th>\n",
       "      <th>Address</th>\n",
       "    </tr>\n",
       "  </thead>\n",
       "  <tbody>\n",
       "    <tr>\n",
       "      <th>0</th>\n",
       "      <td>Rebbecca</td>\n",
       "      <td>Didio</td>\n",
       "      <td>Brandt, Jonathan F Esq</td>\n",
       "      <td>171 E 24th St</td>\n",
       "    </tr>\n",
       "    <tr>\n",
       "      <th>1</th>\n",
       "      <td>Stevie</td>\n",
       "      <td>Hallo</td>\n",
       "      <td>Landrum Temporary Services</td>\n",
       "      <td>22222 Acoma St</td>\n",
       "    </tr>\n",
       "    <tr>\n",
       "      <th>2</th>\n",
       "      <td>Mariko</td>\n",
       "      <td>Stayer</td>\n",
       "      <td>Inabinet, Macre Esq</td>\n",
       "      <td>534 Schoenborn St #51</td>\n",
       "    </tr>\n",
       "    <tr>\n",
       "      <th>3</th>\n",
       "      <td>Gerardo</td>\n",
       "      <td>Woodka</td>\n",
       "      <td>Morris Downing &amp; Sherred</td>\n",
       "      <td>69206 Jackson Ave</td>\n",
       "    </tr>\n",
       "    <tr>\n",
       "      <th>4</th>\n",
       "      <td>Mayra</td>\n",
       "      <td>Bena</td>\n",
       "      <td>Buelt, David L Esq</td>\n",
       "      <td>808 Glen Cove Ave</td>\n",
       "    </tr>\n",
       "    <tr>\n",
       "      <th>...</th>\n",
       "      <td>...</td>\n",
       "      <td>...</td>\n",
       "      <td>...</td>\n",
       "      <td>...</td>\n",
       "    </tr>\n",
       "    <tr>\n",
       "      <th>495</th>\n",
       "      <td>Miles</td>\n",
       "      <td>Feldner</td>\n",
       "      <td>Antietam Cable Television</td>\n",
       "      <td>28465 Downey Ave #4238</td>\n",
       "    </tr>\n",
       "    <tr>\n",
       "      <th>496</th>\n",
       "      <td>Julio</td>\n",
       "      <td>Mikel</td>\n",
       "      <td>Lombardi Bros Inc</td>\n",
       "      <td>2803 N Catalina Ave</td>\n",
       "    </tr>\n",
       "    <tr>\n",
       "      <th>497</th>\n",
       "      <td>Aide</td>\n",
       "      <td>Ghera</td>\n",
       "      <td>Nathaniel Electronics</td>\n",
       "      <td>22 Livingston Ave</td>\n",
       "    </tr>\n",
       "    <tr>\n",
       "      <th>498</th>\n",
       "      <td>Noelia</td>\n",
       "      <td>Brackett</td>\n",
       "      <td>Rodriguez, Joseph A Esq</td>\n",
       "      <td>403 Conn Valley Rd</td>\n",
       "    </tr>\n",
       "    <tr>\n",
       "      <th>499</th>\n",
       "      <td>Lenora</td>\n",
       "      <td>Delacruz</td>\n",
       "      <td>Stilling, William J Esq</td>\n",
       "      <td>5400 Market St</td>\n",
       "    </tr>\n",
       "  </tbody>\n",
       "</table>\n",
       "<p>500 rows × 4 columns</p>\n",
       "</div>"
      ],
      "text/plain": [
       "    First Name Last Name                Company Name                 Address\n",
       "0     Rebbecca     Didio      Brandt, Jonathan F Esq           171 E 24th St\n",
       "1       Stevie     Hallo  Landrum Temporary Services          22222 Acoma St\n",
       "2       Mariko    Stayer         Inabinet, Macre Esq   534 Schoenborn St #51\n",
       "3      Gerardo    Woodka    Morris Downing & Sherred       69206 Jackson Ave\n",
       "4        Mayra      Bena          Buelt, David L Esq       808 Glen Cove Ave\n",
       "..         ...       ...                         ...                     ...\n",
       "495      Miles   Feldner   Antietam Cable Television  28465 Downey Ave #4238\n",
       "496      Julio     Mikel           Lombardi Bros Inc     2803 N Catalina Ave\n",
       "497       Aide     Ghera       Nathaniel Electronics       22 Livingston Ave\n",
       "498     Noelia  Brackett     Rodriguez, Joseph A Esq      403 Conn Valley Rd\n",
       "499     Lenora  Delacruz     Stilling, William J Esq          5400 Market St\n",
       "\n",
       "[500 rows x 4 columns]"
      ]
     },
     "execution_count": 4,
     "metadata": {},
     "output_type": "execute_result"
    }
   ],
   "source": [
    "df8.parse('short')"
   ]
  },
  {
   "cell_type": "code",
   "execution_count": 7,
   "id": "b39539ef",
   "metadata": {},
   "outputs": [
    {
     "data": {
      "text/html": [
       "<div>\n",
       "<style scoped>\n",
       "    .dataframe tbody tr th:only-of-type {\n",
       "        vertical-align: middle;\n",
       "    }\n",
       "\n",
       "    .dataframe tbody tr th {\n",
       "        vertical-align: top;\n",
       "    }\n",
       "\n",
       "    .dataframe thead th {\n",
       "        text-align: right;\n",
       "    }\n",
       "</style>\n",
       "<table border=\"1\" class=\"dataframe\">\n",
       "  <thead>\n",
       "    <tr style=\"text-align: right;\">\n",
       "      <th></th>\n",
       "      <th>day</th>\n",
       "      <th>city</th>\n",
       "      <th>temperature</th>\n",
       "      <th>windspeed</th>\n",
       "      <th>event</th>\n",
       "    </tr>\n",
       "  </thead>\n",
       "  <tbody>\n",
       "    <tr>\n",
       "      <th>7</th>\n",
       "      <td>01-04-2017</td>\n",
       "      <td>mumbai</td>\n",
       "      <td>92.0</td>\n",
       "      <td>5</td>\n",
       "      <td>Rain</td>\n",
       "    </tr>\n",
       "  </tbody>\n",
       "</table>\n",
       "</div>"
      ],
      "text/plain": [
       "          day    city  temperature  windspeed event\n",
       "7  01-04-2017  mumbai         92.0          5  Rain"
      ]
     },
     "execution_count": 7,
     "metadata": {},
     "output_type": "execute_result"
    }
   ],
   "source": [
    "df5[df5.temperature == df5['temperature'].max()]"
   ]
  },
  {
   "cell_type": "code",
   "execution_count": 8,
   "id": "34376ea0",
   "metadata": {},
   "outputs": [
    {
     "data": {
      "text/html": [
       "<div>\n",
       "<style scoped>\n",
       "    .dataframe tbody tr th:only-of-type {\n",
       "        vertical-align: middle;\n",
       "    }\n",
       "\n",
       "    .dataframe tbody tr th {\n",
       "        vertical-align: top;\n",
       "    }\n",
       "\n",
       "    .dataframe thead th {\n",
       "        text-align: right;\n",
       "    }\n",
       "</style>\n",
       "<table border=\"1\" class=\"dataframe\">\n",
       "  <thead>\n",
       "    <tr style=\"text-align: right;\">\n",
       "      <th></th>\n",
       "      <th>day</th>\n",
       "    </tr>\n",
       "  </thead>\n",
       "  <tbody>\n",
       "    <tr>\n",
       "      <th>7</th>\n",
       "      <td>01-04-2017</td>\n",
       "    </tr>\n",
       "  </tbody>\n",
       "</table>\n",
       "</div>"
      ],
      "text/plain": [
       "          day\n",
       "7  01-04-2017"
      ]
     },
     "execution_count": 8,
     "metadata": {},
     "output_type": "execute_result"
    }
   ],
   "source": [
    "df5[['day']][df5.temperature == df5['temperature'].max()]"
   ]
  },
  {
   "cell_type": "code",
   "execution_count": 9,
   "id": "2ad55491",
   "metadata": {},
   "outputs": [
    {
     "data": {
      "text/html": [
       "<div>\n",
       "<style scoped>\n",
       "    .dataframe tbody tr th:only-of-type {\n",
       "        vertical-align: middle;\n",
       "    }\n",
       "\n",
       "    .dataframe tbody tr th {\n",
       "        vertical-align: top;\n",
       "    }\n",
       "\n",
       "    .dataframe thead th {\n",
       "        text-align: right;\n",
       "    }\n",
       "</style>\n",
       "<table border=\"1\" class=\"dataframe\">\n",
       "  <thead>\n",
       "    <tr style=\"text-align: right;\">\n",
       "      <th></th>\n",
       "      <th>day</th>\n",
       "      <th>temperature</th>\n",
       "    </tr>\n",
       "  </thead>\n",
       "  <tbody>\n",
       "    <tr>\n",
       "      <th>7</th>\n",
       "      <td>01-04-2017</td>\n",
       "      <td>92.0</td>\n",
       "    </tr>\n",
       "  </tbody>\n",
       "</table>\n",
       "</div>"
      ],
      "text/plain": [
       "          day  temperature\n",
       "7  01-04-2017         92.0"
      ]
     },
     "execution_count": 9,
     "metadata": {},
     "output_type": "execute_result"
    }
   ],
   "source": [
    "df5[['day','temperature']][df5.temperature == df5['temperature'].max()]"
   ]
  },
  {
   "cell_type": "code",
   "execution_count": null,
   "id": "e3cc5cbc",
   "metadata": {},
   "outputs": [],
   "source": [
    "# [df9 = pd.read_exel(\"excel-spreadsheet-examples-for-students.xls\",sheet_name = i) for i in sheet_name_list]\n",
    "for i in sheet_name_list:\n",
    "    df9 = pd.read_excel(\"excel-spreadsheet-examples-for-students.xls\",sheet_name = i)\n",
    "df9"
   ]
  },
  {
   "cell_type": "code",
   "execution_count": null,
   "id": "b5a7ce07",
   "metadata": {},
   "outputs": [],
   "source": [
    "df5.index"
   ]
  },
  {
   "cell_type": "code",
   "execution_count": null,
   "id": "c4cecc6d",
   "metadata": {},
   "outputs": [],
   "source": [
    "df123= df5.set_index('day')\n",
    "df123"
   ]
  },
  {
   "cell_type": "code",
   "execution_count": 10,
   "id": "ae719771",
   "metadata": {},
   "outputs": [
    {
     "data": {
      "text/html": [
       "<div>\n",
       "<style scoped>\n",
       "    .dataframe tbody tr th:only-of-type {\n",
       "        vertical-align: middle;\n",
       "    }\n",
       "\n",
       "    .dataframe tbody tr th {\n",
       "        vertical-align: top;\n",
       "    }\n",
       "\n",
       "    .dataframe thead th {\n",
       "        text-align: right;\n",
       "    }\n",
       "</style>\n",
       "<table border=\"1\" class=\"dataframe\">\n",
       "  <thead>\n",
       "    <tr style=\"text-align: right;\">\n",
       "      <th></th>\n",
       "      <th>city</th>\n",
       "      <th>temperature</th>\n",
       "      <th>windspeed</th>\n",
       "      <th>event</th>\n",
       "    </tr>\n",
       "    <tr>\n",
       "      <th>day</th>\n",
       "      <th></th>\n",
       "      <th></th>\n",
       "      <th></th>\n",
       "      <th></th>\n",
       "    </tr>\n",
       "  </thead>\n",
       "  <tbody>\n",
       "    <tr>\n",
       "      <th>01-01-2017</th>\n",
       "      <td>new york</td>\n",
       "      <td>32.0</td>\n",
       "      <td>6</td>\n",
       "      <td>Rain</td>\n",
       "    </tr>\n",
       "    <tr>\n",
       "      <th>01-02-2017</th>\n",
       "      <td>new york</td>\n",
       "      <td>36.0</td>\n",
       "      <td>7</td>\n",
       "      <td>Sunny</td>\n",
       "    </tr>\n",
       "    <tr>\n",
       "      <th>01-03-2017</th>\n",
       "      <td>new york</td>\n",
       "      <td>NaN</td>\n",
       "      <td>12</td>\n",
       "      <td>Snow</td>\n",
       "    </tr>\n",
       "    <tr>\n",
       "      <th>01-04-2017</th>\n",
       "      <td>n.a.</td>\n",
       "      <td>NaN</td>\n",
       "      <td>7</td>\n",
       "      <td>NaN</td>\n",
       "    </tr>\n",
       "    <tr>\n",
       "      <th>01-01-2017</th>\n",
       "      <td>mumbai</td>\n",
       "      <td>NaN</td>\n",
       "      <td>5</td>\n",
       "      <td>Sunny</td>\n",
       "    </tr>\n",
       "    <tr>\n",
       "      <th>01-02-2017</th>\n",
       "      <td>mumbai</td>\n",
       "      <td>85.0</td>\n",
       "      <td>-999</td>\n",
       "      <td>Fog</td>\n",
       "    </tr>\n",
       "    <tr>\n",
       "      <th>01-03-2017</th>\n",
       "      <td>mumbai</td>\n",
       "      <td>NaN</td>\n",
       "      <td>15</td>\n",
       "      <td>Fog</td>\n",
       "    </tr>\n",
       "    <tr>\n",
       "      <th>01-04-2017</th>\n",
       "      <td>mumbai</td>\n",
       "      <td>92.0</td>\n",
       "      <td>5</td>\n",
       "      <td>Rain</td>\n",
       "    </tr>\n",
       "    <tr>\n",
       "      <th>01-01-2017</th>\n",
       "      <td>paris</td>\n",
       "      <td>45.0</td>\n",
       "      <td>20</td>\n",
       "      <td>Sunny</td>\n",
       "    </tr>\n",
       "    <tr>\n",
       "      <th>01-02-2017</th>\n",
       "      <td>paris</td>\n",
       "      <td>50.0</td>\n",
       "      <td>13</td>\n",
       "      <td>Cloudy</td>\n",
       "    </tr>\n",
       "    <tr>\n",
       "      <th>01-03-2017</th>\n",
       "      <td>paris</td>\n",
       "      <td>54.0</td>\n",
       "      <td>8</td>\n",
       "      <td>NaN</td>\n",
       "    </tr>\n",
       "    <tr>\n",
       "      <th>01-04-2017</th>\n",
       "      <td>paris</td>\n",
       "      <td>42.0</td>\n",
       "      <td>-2536</td>\n",
       "      <td>Cloudy</td>\n",
       "    </tr>\n",
       "  </tbody>\n",
       "</table>\n",
       "</div>"
      ],
      "text/plain": [
       "                city  temperature  windspeed   event\n",
       "day                                                 \n",
       "01-01-2017  new york         32.0          6    Rain\n",
       "01-02-2017  new york         36.0          7   Sunny\n",
       "01-03-2017  new york          NaN         12    Snow\n",
       "01-04-2017      n.a.          NaN          7     NaN\n",
       "01-01-2017    mumbai          NaN          5   Sunny\n",
       "01-02-2017    mumbai         85.0       -999     Fog\n",
       "01-03-2017    mumbai          NaN         15     Fog\n",
       "01-04-2017    mumbai         92.0          5    Rain\n",
       "01-01-2017     paris         45.0         20   Sunny\n",
       "01-02-2017     paris         50.0         13  Cloudy\n",
       "01-03-2017     paris         54.0          8     NaN\n",
       "01-04-2017     paris         42.0      -2536  Cloudy"
      ]
     },
     "execution_count": 10,
     "metadata": {},
     "output_type": "execute_result"
    }
   ],
   "source": [
    "df5.set_index('day',inplace= True)\n",
    "# it changes the data permanently in a copy of that same data\n",
    "df5"
   ]
  },
  {
   "cell_type": "code",
   "execution_count": null,
   "id": "4a0b1c5d",
   "metadata": {},
   "outputs": [],
   "source": [
    "# df5.loc('day')   correct the code"
   ]
  },
  {
   "cell_type": "code",
   "execution_count": null,
   "id": "720b41a5",
   "metadata": {},
   "outputs": [],
   "source": [
    "pd.read_csv(r\"D:\\python\\AILABS\\Day 7 30.06.2023\\address.csv.csv\",names = []).head(2).index"
   ]
  }
 ],
 "metadata": {
  "kernelspec": {
   "display_name": "Python 3 (ipykernel)",
   "language": "python",
   "name": "python3"
  },
  "language_info": {
   "codemirror_mode": {
    "name": "ipython",
    "version": 3
   },
   "file_extension": ".py",
   "mimetype": "text/x-python",
   "name": "python",
   "nbconvert_exporter": "python",
   "pygments_lexer": "ipython3",
   "version": "3.9.13"
  }
 },
 "nbformat": 4,
 "nbformat_minor": 5
}
