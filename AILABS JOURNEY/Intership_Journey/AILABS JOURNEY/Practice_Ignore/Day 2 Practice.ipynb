{
 "cells": [
  {
   "cell_type": "markdown",
   "id": "2bd64cad",
   "metadata": {},
   "source": [
    "# Day 2"
   ]
  },
  {
   "cell_type": "code",
   "execution_count": 2,
   "id": "1427f97e",
   "metadata": {},
   "outputs": [
    {
     "data": {
      "text/plain": [
       "\"It's Runnable Command\""
      ]
     },
     "execution_count": 2,
     "metadata": {},
     "output_type": "execute_result"
    }
   ],
   "source": [
    "\"It's Runnable Command\""
   ]
  },
  {
   "cell_type": "markdown",
   "id": "3705bd2a",
   "metadata": {},
   "source": [
    "#### DataStracture"
   ]
  },
  {
   "cell_type": "code",
   "execution_count": 4,
   "id": "3da20944",
   "metadata": {},
   "outputs": [
    {
     "data": {
      "text/plain": [
       "set"
      ]
     },
     "execution_count": 4,
     "metadata": {},
     "output_type": "execute_result"
    }
   ],
   "source": [
    "type(set())"
   ]
  },
  {
   "cell_type": "code",
   "execution_count": 6,
   "id": "e63fd0f4",
   "metadata": {},
   "outputs": [
    {
     "data": {
      "text/plain": [
       "tuple"
      ]
     },
     "execution_count": 6,
     "metadata": {},
     "output_type": "execute_result"
    }
   ],
   "source": [
    "type(())"
   ]
  },
  {
   "cell_type": "code",
   "execution_count": 8,
   "id": "54973bb3",
   "metadata": {},
   "outputs": [
    {
     "data": {
      "text/plain": [
       "dict"
      ]
     },
     "execution_count": 8,
     "metadata": {},
     "output_type": "execute_result"
    }
   ],
   "source": [
    "type({})"
   ]
  },
  {
   "cell_type": "code",
   "execution_count": 9,
   "id": "5b926fa6",
   "metadata": {},
   "outputs": [
    {
     "data": {
      "text/plain": [
       "list"
      ]
     },
     "execution_count": 9,
     "metadata": {},
     "output_type": "execute_result"
    }
   ],
   "source": [
    "type([])"
   ]
  },
  {
   "cell_type": "markdown",
   "id": "bb983166",
   "metadata": {},
   "source": [
    "# List"
   ]
  },
  {
   "cell_type": "code",
   "execution_count": 11,
   "id": "f587d1fe",
   "metadata": {},
   "outputs": [
    {
     "data": {
      "text/plain": [
       "[2, 34, 465, 'Aritra', 'Mukherjee']"
      ]
     },
     "execution_count": 11,
     "metadata": {},
     "output_type": "execute_result"
    }
   ],
   "source": [
    "#List is mutable (it can be change)\n",
    "list = [2,34,465,'Aritra']\n",
    "list.append('Mukherjee')\n",
    "list"
   ]
  },
  {
   "cell_type": "code",
   "execution_count": 14,
   "id": "1fc34cd6",
   "metadata": {},
   "outputs": [
    {
     "data": {
      "text/plain": [
       "[2, 34, 465, 'Aritra', 'Mukherjee']"
      ]
     },
     "execution_count": 14,
     "metadata": {},
     "output_type": "execute_result"
    }
   ],
   "source": [
    "list[0:5] #index 0 to 5"
   ]
  },
  {
   "cell_type": "code",
   "execution_count": 29,
   "id": "b53af68f",
   "metadata": {},
   "outputs": [
    {
     "data": {
      "text/plain": [
       "[2, 465, 'Mukherjee']"
      ]
     },
     "execution_count": 29,
     "metadata": {},
     "output_type": "execute_result"
    }
   ],
   "source": [
    "list[0:5:2]"
   ]
  },
  {
   "cell_type": "code",
   "execution_count": 30,
   "id": "4ce2ff97",
   "metadata": {},
   "outputs": [
    {
     "data": {
      "text/plain": [
       "[2, 34, 465, 'Aritra', 'Mukherjee', [120, 35, 45367, 45, 21]]"
      ]
     },
     "execution_count": 30,
     "metadata": {},
     "output_type": "execute_result"
    }
   ],
   "source": [
    "list.append([120,35,45367,45,21])\n",
    "list"
   ]
  },
  {
   "cell_type": "code",
   "execution_count": 31,
   "id": "ce10fdb5",
   "metadata": {},
   "outputs": [
    {
     "data": {
      "text/plain": [
       "[2, 34, 465, 'Aritra', 'Mukherjee', [120, 35, 45367, 45, 21], 45367, 45, 21]"
      ]
     },
     "execution_count": 31,
     "metadata": {},
     "output_type": "execute_result"
    }
   ],
   "source": [
    "list.extend([45367,45,21])\n",
    "list"
   ]
  },
  {
   "cell_type": "code",
   "execution_count": 32,
   "id": "1b6f29c4",
   "metadata": {},
   "outputs": [],
   "source": [
    "list.remove(45367)"
   ]
  },
  {
   "cell_type": "code",
   "execution_count": 39,
   "id": "03d8e769",
   "metadata": {},
   "outputs": [
    {
     "data": {
      "text/plain": [
       "'Mukherjee'"
      ]
     },
     "execution_count": 39,
     "metadata": {},
     "output_type": "execute_result"
    }
   ],
   "source": [
    "list.pop(3)"
   ]
  },
  {
   "cell_type": "code",
   "execution_count": 40,
   "id": "8d743aed",
   "metadata": {},
   "outputs": [
    {
     "data": {
      "text/plain": [
       "[2, 465, 'Aritra', 45]"
      ]
     },
     "execution_count": 40,
     "metadata": {},
     "output_type": "execute_result"
    }
   ],
   "source": [
    "list"
   ]
  },
  {
   "cell_type": "code",
   "execution_count": 53,
   "id": "51b30375",
   "metadata": {},
   "outputs": [
    {
     "name": "stdout",
     "output_type": "stream",
     "text": [
      "12\n",
      "5\n",
      "6\n",
      "70\n"
     ]
    }
   ],
   "source": [
    "list = [12, 5, 6, 78, 'Aritra', 'Mukherjee', [12, 5, 6, 70], 12, 5, 6]\n",
    "print(list[6][0])\n",
    "print(list[6][1])\n",
    "print(list[6][2])\n",
    "print(list[6][3])"
   ]
  },
  {
   "cell_type": "code",
   "execution_count": 45,
   "id": "0a3d557b",
   "metadata": {},
   "outputs": [
    {
     "data": {
      "text/plain": [
       "(12, 345, 5, 78294, 23425, 523562365)"
      ]
     },
     "execution_count": 45,
     "metadata": {},
     "output_type": "execute_result"
    }
   ],
   "source": [
    "t = (12,345,5)\n",
    "p = (78294,23425,523562365)\n",
    "c = t+p\n",
    "c"
   ]
  },
  {
   "cell_type": "code",
   "execution_count": 57,
   "id": "2721dec6",
   "metadata": {},
   "outputs": [
    {
     "data": {
      "text/plain": [
       "{1, 6, 7, 8, 10, 40, 50, 100}"
      ]
     },
     "execution_count": 57,
     "metadata": {},
     "output_type": "execute_result"
    }
   ],
   "source": [
    "l = [50,6,8,10,1,7,7,50,6,40,100]\n",
    "set(l)"
   ]
  },
  {
   "cell_type": "code",
   "execution_count": 58,
   "id": "eb3369e8",
   "metadata": {},
   "outputs": [
    {
     "data": {
      "text/plain": [
       "{'name': 'Aritra', 'tiitle': 'Mukherjee'}"
      ]
     },
     "execution_count": 58,
     "metadata": {},
     "output_type": "execute_result"
    }
   ],
   "source": [
    "d = {'name':'Aritra','tiitle':'Mukherjee'}\n",
    "d"
   ]
  },
  {
   "cell_type": "code",
   "execution_count": 59,
   "id": "57b282f9",
   "metadata": {},
   "outputs": [
    {
     "data": {
      "text/plain": [
       "'Aritra'"
      ]
     },
     "execution_count": 59,
     "metadata": {},
     "output_type": "execute_result"
    }
   ],
   "source": [
    "d['name']"
   ]
  },
  {
   "cell_type": "markdown",
   "id": "fa32acce",
   "metadata": {},
   "source": [
    "### TYPE CASTING"
   ]
  },
  {
   "cell_type": "code",
   "execution_count": 62,
   "id": "ee3855cc",
   "metadata": {},
   "outputs": [
    {
     "name": "stdout",
     "output_type": "stream",
     "text": [
      "(12, 345, 5, 78294, 23425, 523562365)\n",
      "<class 'tuple'>\n"
     ]
    }
   ],
   "source": [
    "# Implicit\n",
    "a = 12\n",
    "b = 123.5\n",
    "c\n",
    "print(c)\n",
    "print(type(c))"
   ]
  },
  {
   "cell_type": "code",
   "execution_count": 85,
   "id": "61bdddfe",
   "metadata": {},
   "outputs": [
    {
     "name": "stdout",
     "output_type": "stream",
     "text": [
      "<class 'str'>\n",
      "<class 'int'>\n",
      "<class 'str'>\n",
      "135\n"
     ]
    }
   ],
   "source": [
    "#Explicit\n",
    "a = '90'\n",
    "print(type(a))\n",
    "b = 45\n",
    "print(type(b))\n",
    "c = int(a)\n",
    "print(type(a))\n",
    "a = c\n",
    "s = b+a\n",
    "print(s)"
   ]
  },
  {
   "cell_type": "code",
   "execution_count": 87,
   "id": "9288731a",
   "metadata": {},
   "outputs": [
    {
     "name": "stdout",
     "output_type": "stream",
     "text": [
      "less than a\n"
     ]
    }
   ],
   "source": [
    "a = 5\n",
    "if a <= 10:\n",
    "    print('less than a')"
   ]
  },
  {
   "cell_type": "code",
   "execution_count": 89,
   "id": "9c0fb80b",
   "metadata": {},
   "outputs": [
    {
     "name": "stdout",
     "output_type": "stream",
     "text": [
      "Valid\n"
     ]
    }
   ],
   "source": [
    "a = True\n",
    "if a==True:\n",
    "    print(\"Valid\")"
   ]
  },
  {
   "cell_type": "code",
   "execution_count": 90,
   "id": "dd14acf2",
   "metadata": {},
   "outputs": [
    {
     "name": "stdout",
     "output_type": "stream",
     "text": [
      "Yes Valid\n"
     ]
    }
   ],
   "source": [
    "if a:\n",
    "    print('Yes Valid')"
   ]
  },
  {
   "cell_type": "code",
   "execution_count": 91,
   "id": "afae20ef",
   "metadata": {},
   "outputs": [],
   "source": [
    "a = False\n",
    "if a:\n",
    "    print(\"Valid\")"
   ]
  }
 ],
 "metadata": {
  "kernelspec": {
   "display_name": "Python 3 (ipykernel)",
   "language": "python",
   "name": "python3"
  },
  "language_info": {
   "codemirror_mode": {
    "name": "ipython",
    "version": 3
   },
   "file_extension": ".py",
   "mimetype": "text/x-python",
   "name": "python",
   "nbconvert_exporter": "python",
   "pygments_lexer": "ipython3",
   "version": "3.9.13"
  }
 },
 "nbformat": 4,
 "nbformat_minor": 5
}
