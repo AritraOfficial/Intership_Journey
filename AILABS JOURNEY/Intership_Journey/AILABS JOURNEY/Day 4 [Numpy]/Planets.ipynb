{
 "cells": [
  {
   "cell_type": "code",
   "execution_count": 5,
   "id": "962ce6a7",
   "metadata": {},
   "outputs": [
    {
     "data": {
      "text/plain": [
       "array([ 6.87749971e+09, -7.00988505e+09,  3.76390048e+09,  1.27135369e+09,\n",
       "       -5.65680552e+09,  6.70386370e+09,  5.61275988e+09,  7.96262314e+09])"
      ]
     },
     "execution_count": 5,
     "metadata": {},
     "output_type": "execute_result"
    }
   ],
   "source": [
    "import numpy as np\n",
    "List = [2440,6052,6371,3390,69911,58232,25362,24622]\n",
    "pl = np.array(List)\n",
    "vol = 4/3 * np.pi * pl**3\n",
    "vol"
   ]
  },
  {
   "cell_type": "code",
   "execution_count": 4,
   "id": "e11f8895",
   "metadata": {},
   "outputs": [
    {
     "data": {
      "text/plain": [
       "array([6.08496505e+10, 9.28507396e+11, 1.08320692e+12, 1.63187806e+11,\n",
       "       1.43128181e+15, 8.27129915e+14, 6.83343557e+13, 6.25257040e+13])"
      ]
     },
     "execution_count": 4,
     "metadata": {},
     "output_type": "execute_result"
    }
   ],
   "source": [
    "import numpy as np\n",
    "\n",
    "List = [2440, 6052, 6371, 3390, 69911, 58232, 25362, 24622]\n",
    "pl = np.abs(np.array(List, dtype=np.int64))  # Take the absolute values of the elements\n",
    "vol = (4 / 3) * 3.141592653589793 * pl**3\n",
    "vol\n"
   ]
  },
  {
   "cell_type": "code",
   "execution_count": 6,
   "id": "01286f63",
   "metadata": {},
   "outputs": [
    {
     "data": {
      "text/plain": [
       "array([6.0849652e+10, 9.2850736e+11, 1.0832069e+12, 1.6318782e+11,\n",
       "       1.4312819e+15, 8.2712990e+14, 6.8334360e+13, 6.2525706e+13],\n",
       "      dtype=float32)"
      ]
     },
     "execution_count": 6,
     "metadata": {},
     "output_type": "execute_result"
    }
   ],
   "source": [
    "List = [2440, 6052, 6371, 3390, 69911, 58232, 25362, 24622]\n",
    "pl = np.abs(np.array(List, dtype=np.float32))  # Take the absolute values of the elements\n",
    "vol = (4 / 3) * np.pi * pl**3\n",
    "vol"
   ]
  }
 ],
 "metadata": {
  "kernelspec": {
   "display_name": "Python 3 (ipykernel)",
   "language": "python",
   "name": "python3"
  },
  "language_info": {
   "codemirror_mode": {
    "name": "ipython",
    "version": 3
   },
   "file_extension": ".py",
   "mimetype": "text/x-python",
   "name": "python",
   "nbconvert_exporter": "python",
   "pygments_lexer": "ipython3",
   "version": "3.9.13"
  }
 },
 "nbformat": 4,
 "nbformat_minor": 5
}
