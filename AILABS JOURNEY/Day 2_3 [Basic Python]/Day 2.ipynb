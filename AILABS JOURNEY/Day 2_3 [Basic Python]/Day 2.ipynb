{
 "cells": [
  {
   "cell_type": "markdown",
   "id": "d34c367d",
   "metadata": {},
   "source": [
    "#  AILABS DAY :: 2"
   ]
  },
  {
   "cell_type": "markdown",
   "id": "8a7e4002",
   "metadata": {},
   "source": [
    "                                                                                                        Date : 16.06.2023"
   ]
  },
  {
   "cell_type": "code",
   "execution_count": 2,
   "id": "f2c5fc2e",
   "metadata": {},
   "outputs": [
    {
     "data": {
      "text/plain": [
       "9"
      ]
     },
     "execution_count": 2,
     "metadata": {},
     "output_type": "execute_result"
    }
   ],
   "source": [
    "2+3\n",
    "5+4"
   ]
  },
  {
   "cell_type": "code",
   "execution_count": 3,
   "id": "c4514e52",
   "metadata": {},
   "outputs": [
    {
     "name": "stdout",
     "output_type": "stream",
     "text": [
      "5\n",
      "9\n"
     ]
    }
   ],
   "source": [
    "print(2+3)\n",
    "print(4+5)"
   ]
  },
  {
   "cell_type": "code",
   "execution_count": 4,
   "id": "d264f81e",
   "metadata": {},
   "outputs": [
    {
     "name": "stdout",
     "output_type": "stream",
     "text": [
      "5\n"
     ]
    }
   ],
   "source": [
    "#variable\n",
    "# --- which content one value at a time.\n",
    "\n",
    "var = 2+3  # '= ' it is a assignment operator (work- )\n",
    "print(var)"
   ]
  },
  {
   "cell_type": "code",
   "execution_count": 5,
   "id": "5d259547",
   "metadata": {},
   "outputs": [
    {
     "name": "stdout",
     "output_type": "stream",
     "text": [
      "600\n"
     ]
    }
   ],
   "source": [
    "bankab = 1200\n",
    "popconcost = 600\n",
    "available_ballance = (bankab - popconcost)\n",
    "print(available_ballance)"
   ]
  },
  {
   "cell_type": "code",
   "execution_count": 6,
   "id": "dabd47d4",
   "metadata": {},
   "outputs": [
    {
     "ename": "SyntaxError",
     "evalue": "invalid syntax (1404339599.py, line 1)",
     "output_type": "error",
     "traceback": [
      "\u001b[1;36m  File \u001b[1;32m\"C:\\Users\\Aritra_Offficial\\AppData\\Local\\Temp\\ipykernel_4464\\1404339599.py\"\u001b[1;36m, line \u001b[1;32m1\u001b[0m\n\u001b[1;33m    @var = 5 #error : it is a override  process..\u001b[0m\n\u001b[1;37m         ^\u001b[0m\n\u001b[1;31mSyntaxError\u001b[0m\u001b[1;31m:\u001b[0m invalid syntax\n"
     ]
    }
   ],
   "source": [
    "@var = 5 #error : it is a override  process..\n",
    "7var = 5 #error : variable can`t start with any interger value.\n",
    "_ = 5\n",
    "__ = 5"
   ]
  },
  {
   "cell_type": "code",
   "execution_count": 7,
   "id": "3c61633e",
   "metadata": {},
   "outputs": [
    {
     "data": {
      "text/plain": [
       "\"It's Runnable Command\""
      ]
     },
     "execution_count": 7,
     "metadata": {},
     "output_type": "execute_result"
    }
   ],
   "source": [
    "\"It's Runnable Command\""
   ]
  },
  {
   "cell_type": "code",
   "execution_count": 8,
   "id": "28b2d287",
   "metadata": {},
   "outputs": [
    {
     "data": {
      "text/plain": [
       "\"It's Runnable Command\""
      ]
     },
     "execution_count": 8,
     "metadata": {},
     "output_type": "execute_result"
    }
   ],
   "source": [
    "'It\\'s Runnable Command'"
   ]
  },
  {
   "cell_type": "code",
   "execution_count": 9,
   "id": "31ed0c74",
   "metadata": {},
   "outputs": [
    {
     "data": {
      "text/plain": [
       "'Akash said, \"It\\'s your Bag\" only '"
      ]
     },
     "execution_count": 9,
     "metadata": {},
     "output_type": "execute_result"
    }
   ],
   "source": [
    "\"Akash said, \\\"It's your Bag\\\" only \""
   ]
  },
  {
   "cell_type": "code",
   "execution_count": 10,
   "id": "2b1c2ba1",
   "metadata": {},
   "outputs": [
    {
     "name": "stdout",
     "output_type": "stream",
     "text": [
      "Akash said, \"It's your Bag\" only \n"
     ]
    }
   ],
   "source": [
    "\"Akash said, \\\"It's your Bag\\\" only \" #crate as a symbol it's bot the end of a string.    #here print also '\\' \n",
    "#to solve using () \n",
    "print(\"Akash said, \\\"It's your Bag\\\" only \")"
   ]
  },
  {
   "cell_type": "code",
   "execution_count": 11,
   "id": "b3ce2de7",
   "metadata": {},
   "outputs": [
    {
     "name": "stdout",
     "output_type": "stream",
     "text": [
      "Akash said, \"It's your Bag\" only Akash karmaker\n"
     ]
    }
   ],
   "source": [
    "s1 = \"Akash said, \\\"It's your Bag\\\" only \"\n",
    "s2 = \"Akash \" + \"karmaker\"\n",
    "s = s1+s2\n",
    "print(s)\n"
   ]
  },
  {
   "cell_type": "code",
   "execution_count": 12,
   "id": "5f7b2519",
   "metadata": {},
   "outputs": [
    {
     "name": "stdout",
     "output_type": "stream",
     "text": [
      "False\n",
      "True\n"
     ]
    }
   ],
   "source": [
    "print(1 + 1 == 4)\n",
    "print(100 > 52)"
   ]
  },
  {
   "cell_type": "markdown",
   "id": "2839ea2a",
   "metadata": {},
   "source": [
    "## Data Structure"
   ]
  },
  {
   "cell_type": "code",
   "execution_count": 13,
   "id": "dfa79927",
   "metadata": {},
   "outputs": [
    {
     "data": {
      "text/plain": [
       "set"
      ]
     },
     "execution_count": 13,
     "metadata": {},
     "output_type": "execute_result"
    }
   ],
   "source": [
    "s = set()\n",
    "type(s)"
   ]
  },
  {
   "cell_type": "code",
   "execution_count": 14,
   "id": "0f5345e3",
   "metadata": {},
   "outputs": [
    {
     "data": {
      "text/plain": [
       "tuple"
      ]
     },
     "execution_count": 14,
     "metadata": {},
     "output_type": "execute_result"
    }
   ],
   "source": [
    "s = ()\n",
    "type(s)"
   ]
  },
  {
   "cell_type": "code",
   "execution_count": 15,
   "id": "c08682d7",
   "metadata": {},
   "outputs": [
    {
     "data": {
      "text/plain": [
       "dict"
      ]
     },
     "execution_count": 15,
     "metadata": {},
     "output_type": "execute_result"
    }
   ],
   "source": [
    "s = {}\n",
    "type(s)"
   ]
  },
  {
   "cell_type": "code",
   "execution_count": 16,
   "id": "e67f8577",
   "metadata": {},
   "outputs": [
    {
     "data": {
      "text/plain": [
       "list"
      ]
     },
     "execution_count": 16,
     "metadata": {},
     "output_type": "execute_result"
    }
   ],
   "source": [
    "s = []\n",
    "type(s)"
   ]
  },
  {
   "cell_type": "markdown",
   "id": "357356d2",
   "metadata": {},
   "source": [
    "List"
   ]
  },
  {
   "cell_type": "code",
   "execution_count": 17,
   "id": "cb70a06d",
   "metadata": {},
   "outputs": [
    {
     "name": "stdout",
     "output_type": "stream",
     "text": [
      "[12, 5, 6, 78, 'Aritra', 'Mukherjee']\n"
     ]
    }
   ],
   "source": [
    "#list is mutable -- it can change after allocate\n",
    "list = [12,5,6,78,'Aritra']\n",
    "list.append('Mukherjee')\n",
    "print(list)"
   ]
  },
  {
   "cell_type": "markdown",
   "id": "ca26b548",
   "metadata": {},
   "source": [
    "Index"
   ]
  },
  {
   "cell_type": "markdown",
   "id": "33691099",
   "metadata": {},
   "source": [
    "MEMBERSHIP OPERATOR"
   ]
  },
  {
   "cell_type": "code",
   "execution_count": 18,
   "id": "ef8b5aee",
   "metadata": {},
   "outputs": [
    {
     "data": {
      "text/plain": [
       "[12, 5, 6, 78, 'Aritra']"
      ]
     },
     "execution_count": 18,
     "metadata": {},
     "output_type": "execute_result"
    }
   ],
   "source": [
    "list[0:5]"
   ]
  },
  {
   "cell_type": "code",
   "execution_count": 19,
   "id": "0a1a2909",
   "metadata": {},
   "outputs": [
    {
     "data": {
      "text/plain": [
       "[12, 6, 'Aritra']"
      ]
     },
     "execution_count": 19,
     "metadata": {},
     "output_type": "execute_result"
    }
   ],
   "source": [
    "#step jump\n",
    "list[0:5:2]"
   ]
  },
  {
   "cell_type": "code",
   "execution_count": 20,
   "id": "e23a954d",
   "metadata": {},
   "outputs": [
    {
     "data": {
      "text/plain": [
       "[12, 5, 6, 78, 'Aritra', 'Mukherjee', [12, 5, 6, 70]]"
      ]
     },
     "execution_count": 20,
     "metadata": {},
     "output_type": "execute_result"
    }
   ],
   "source": [
    "list.append([12,5,6,70])\n",
    "list"
   ]
  },
  {
   "cell_type": "code",
   "execution_count": 21,
   "id": "3628da63",
   "metadata": {},
   "outputs": [
    {
     "data": {
      "text/plain": [
       "[12, 5, 6, 78, 'Aritra', 'Mukherjee', [12, 5, 6, 70], 12, 5, 6, 70]"
      ]
     },
     "execution_count": 21,
     "metadata": {},
     "output_type": "execute_result"
    }
   ],
   "source": [
    "list.extend ([12,5,6,70])\n",
    "list"
   ]
  },
  {
   "cell_type": "code",
   "execution_count": 22,
   "id": "85ac0bda",
   "metadata": {},
   "outputs": [
    {
     "data": {
      "text/plain": [
       "[12, 5, 6, 78, 'Aritra', 'Mukherjee', [12, 5, 6, 70], 12, 5, 6]"
      ]
     },
     "execution_count": 22,
     "metadata": {},
     "output_type": "execute_result"
    }
   ],
   "source": [
    "list.remove(70)\n",
    "list"
   ]
  },
  {
   "cell_type": "code",
   "execution_count": 23,
   "id": "32c22d1f",
   "metadata": {},
   "outputs": [
    {
     "name": "stdout",
     "output_type": "stream",
     "text": [
      "[12, 5, 6, 78, 'Mukherjee', [12, 5, 6, 70], 12, 5, 6]\n"
     ]
    }
   ],
   "source": [
    "list.pop(4)\n",
    "print(list)"
   ]
  },
  {
   "cell_type": "code",
   "execution_count": 24,
   "id": "0cbc7f4a",
   "metadata": {},
   "outputs": [
    {
     "name": "stdout",
     "output_type": "stream",
     "text": [
      "5\n"
     ]
    }
   ],
   "source": [
    "list = [12, 5, 6, 78, 'Aritra', 'Mukherjee', [12, 5, 6, 70], 12, 5, 6]\n",
    "print(list[6][1])"
   ]
  },
  {
   "cell_type": "markdown",
   "id": "d730be53",
   "metadata": {},
   "source": [
    "Tupple "
   ]
  },
  {
   "cell_type": "code",
   "execution_count": 25,
   "id": "c0c6fefb",
   "metadata": {},
   "outputs": [
    {
     "name": "stdout",
     "output_type": "stream",
     "text": [
      "(12, 5, 6, 40, 202, 5, 156, 30)\n"
     ]
    }
   ],
   "source": [
    "#it is immutable -- it can not change \n",
    "tup = (12,5,6,40)\n",
    "ple = (202,5,156,30)\n",
    "conca = tup + ple\n",
    "print(conca)"
   ]
  },
  {
   "cell_type": "markdown",
   "id": "e1c6d998",
   "metadata": {},
   "source": [
    "Set"
   ]
  },
  {
   "cell_type": "code",
   "execution_count": 41,
   "id": "38c6a2a8",
   "metadata": {},
   "outputs": [],
   "source": [
    "#collection of unic item."
   ]
  },
  {
   "cell_type": "code",
   "execution_count": 27,
   "id": "8638957c",
   "metadata": {},
   "outputs": [
    {
     "data": {
      "text/plain": [
       "{1, 5, 6, 7, 8, 10, 40, 50, 100}"
      ]
     },
     "execution_count": 27,
     "metadata": {},
     "output_type": "execute_result"
    }
   ],
   "source": [
    "List  = [1,5,6,8,10,1,7,7,50,6,40,100]\n",
    "set(List)\n"
   ]
  },
  {
   "cell_type": "markdown",
   "id": "858f8ded",
   "metadata": {},
   "source": [
    "Dict"
   ]
  },
  {
   "cell_type": "code",
   "execution_count": 28,
   "id": "2355dd98",
   "metadata": {},
   "outputs": [
    {
     "name": "stdout",
     "output_type": "stream",
     "text": [
      "{'name': 'Aritra', 'title': 'Mukherjee'}\n"
     ]
    }
   ],
   "source": [
    "d = {'name' : \"Aritra\", 'title':'Mukherjee'}\n",
    "print(d)"
   ]
  },
  {
   "cell_type": "code",
   "execution_count": 29,
   "id": "8ac2ce68",
   "metadata": {},
   "outputs": [
    {
     "name": "stdout",
     "output_type": "stream",
     "text": [
      "{1: 12, 'name': 'Aritra'}\n"
     ]
    }
   ],
   "source": [
    "#same key name is override the 1st name and print the very last value.\n",
    "d = {1:120,'name':'Aritra', 1: 12}\n",
    "print(d)"
   ]
  },
  {
   "cell_type": "code",
   "execution_count": 30,
   "id": "394ea2ee",
   "metadata": {},
   "outputs": [
    {
     "data": {
      "text/plain": [
       "'Aritra'"
      ]
     },
     "execution_count": 30,
     "metadata": {},
     "output_type": "execute_result"
    }
   ],
   "source": [
    "d['name']"
   ]
  },
  {
   "cell_type": "markdown",
   "id": "a28a8ceb",
   "metadata": {},
   "source": [
    "#### Type Casting"
   ]
  },
  {
   "cell_type": "markdown",
   "id": "cdb82ea5",
   "metadata": {},
   "source": [
    " - Implicit\n",
    " - Explicit "
   ]
  },
  {
   "cell_type": "code",
   "execution_count": 31,
   "id": "ba8d715c",
   "metadata": {},
   "outputs": [
    {
     "name": "stdout",
     "output_type": "stream",
     "text": [
      "24.3\n",
      "<class 'float'>\n"
     ]
    }
   ],
   "source": [
    "#Implicit\n",
    "a = 12\n",
    "b = 12.3\n",
    "new = a + b\n",
    "print(new)\n",
    "print(type(new))"
   ]
  },
  {
   "cell_type": "code",
   "execution_count": 45,
   "id": "488946aa",
   "metadata": {},
   "outputs": [
    {
     "name": "stdout",
     "output_type": "stream",
     "text": [
      "Type of a :  <class 'str'> 20\n",
      "After Using Type Casting Type of a :  <class 'int'> 20\n",
      "30\n"
     ]
    }
   ],
   "source": [
    "# Explicit\n",
    "\n",
    "a = '20'\n",
    "print(\"Type of a : \", type(a),a)\n",
    "b = 10\n",
    "c = int(a)\n",
    "print(\"After Using Type Casting Type of a : \",type(c), c)\n",
    "s = c+b\n",
    "print(s)"
   ]
  },
  {
   "cell_type": "markdown",
   "id": "b9d13b08",
   "metadata": {},
   "source": [
    "#### Conditinal Statement"
   ]
  },
  {
   "cell_type": "code",
   "execution_count": 33,
   "id": "beced12c",
   "metadata": {},
   "outputs": [
    {
     "name": "stdout",
     "output_type": "stream",
     "text": [
      "less then a\n"
     ]
    }
   ],
   "source": [
    "a = 5\n",
    "if a < 6:\n",
    "    print('less then a')"
   ]
  },
  {
   "cell_type": "code",
   "execution_count": 34,
   "id": "c5b12774",
   "metadata": {},
   "outputs": [],
   "source": [
    "a = True"
   ]
  },
  {
   "cell_type": "code",
   "execution_count": 35,
   "id": "e3d01bc9",
   "metadata": {},
   "outputs": [
    {
     "name": "stdout",
     "output_type": "stream",
     "text": [
      "Valid\n"
     ]
    }
   ],
   "source": [
    "if a == True:\n",
    "    print('Valid')\n",
    "    "
   ]
  },
  {
   "cell_type": "code",
   "execution_count": 36,
   "id": "ce1be1de",
   "metadata": {},
   "outputs": [
    {
     "name": "stdout",
     "output_type": "stream",
     "text": [
      "Validated\n"
     ]
    }
   ],
   "source": [
    "if a:\n",
    "    print(\"Validated\")"
   ]
  },
  {
   "cell_type": "code",
   "execution_count": 46,
   "id": "85c30e44",
   "metadata": {},
   "outputs": [],
   "source": [
    "a = False\n",
    "if a:\n",
    "    print(a)"
   ]
  },
  {
   "cell_type": "code",
   "execution_count": 38,
   "id": "1a6a5702",
   "metadata": {},
   "outputs": [
    {
     "name": "stdout",
     "output_type": "stream",
     "text": [
      "enter the marks of student in SUB 1\n"
     ]
    },
    {
     "ename": "ValueError",
     "evalue": "invalid literal for int() with base 10: ''",
     "output_type": "error",
     "traceback": [
      "\u001b[1;31m---------------------------------------------------------------------------\u001b[0m",
      "\u001b[1;31mValueError\u001b[0m                                Traceback (most recent call last)",
      "\u001b[1;32m~\\AppData\\Local\\Temp\\ipykernel_4464\\2697150513.py\u001b[0m in \u001b[0;36m<module>\u001b[1;34m\u001b[0m\n\u001b[0;32m     13\u001b[0m         \u001b[1;32mreturn\u001b[0m \u001b[1;34m\"FAIL\"\u001b[0m\u001b[1;33m\u001b[0m\u001b[1;33m\u001b[0m\u001b[0m\n\u001b[0;32m     14\u001b[0m \u001b[1;33m\u001b[0m\u001b[0m\n\u001b[1;32m---> 15\u001b[1;33m \u001b[0mb\u001b[0m\u001b[1;33m=\u001b[0m\u001b[0mint\u001b[0m\u001b[1;33m(\u001b[0m\u001b[0minput\u001b[0m\u001b[1;33m(\u001b[0m\u001b[1;34m\"enter the marks of student in SUB 1\"\u001b[0m\u001b[1;33m)\u001b[0m\u001b[1;33m)\u001b[0m\u001b[1;33m\u001b[0m\u001b[1;33m\u001b[0m\u001b[0m\n\u001b[0m\u001b[0;32m     16\u001b[0m \u001b[0mc\u001b[0m\u001b[1;33m=\u001b[0m\u001b[0mint\u001b[0m\u001b[1;33m(\u001b[0m\u001b[0minput\u001b[0m\u001b[1;33m(\u001b[0m\u001b[1;34m\"enter the marks of student in SUB 2\"\u001b[0m\u001b[1;33m)\u001b[0m\u001b[1;33m)\u001b[0m\u001b[1;33m\u001b[0m\u001b[1;33m\u001b[0m\u001b[0m\n\u001b[0;32m     17\u001b[0m \u001b[0md\u001b[0m\u001b[1;33m=\u001b[0m\u001b[0mint\u001b[0m\u001b[1;33m(\u001b[0m\u001b[0minput\u001b[0m\u001b[1;33m(\u001b[0m\u001b[1;34m\"enter the marks of student in SUB 3\"\u001b[0m\u001b[1;33m)\u001b[0m\u001b[1;33m)\u001b[0m\u001b[1;33m\u001b[0m\u001b[1;33m\u001b[0m\u001b[0m\n",
      "\u001b[1;31mValueError\u001b[0m: invalid literal for int() with base 10: ''"
     ]
    }
   ],
   "source": [
    "def student(a):\n",
    "    if a>=90:\n",
    "        return \"A\"\n",
    "    if a>=80 and a<=89:\n",
    "        return \"B\"\n",
    "    if a>=70 and a<=79:\n",
    "        return \"C\"\n",
    "    if a>=60 and a<=69:\n",
    "        return \"D\"\n",
    "    if a>=41 and a<=59:\n",
    "        return \"E\"\n",
    "    if a<=40:\n",
    "        return \"FAIL\"\n",
    "    \n",
    "b=int(input(\"enter the marks of student in SUB 1\"))\n",
    "c=int(input(\"enter the marks of student in SUB 2\"))\n",
    "d=int(input(\"enter the marks of student in SUB 3\"))\n",
    "e=int(input(\"enter the marks of student in SUB 4\"))\n",
    "f=int(input(\"enter the marks of student in SUB 5\"))\n",
    "print(student(b))\n",
    "print(student(c))\n",
    "print(student(d))\n",
    "print(student(e))\n",
    "print(student(f))"
   ]
  },
  {
   "cell_type": "markdown",
   "id": "35764da1",
   "metadata": {},
   "source": [
    "Qu1 :"
   ]
  },
  {
   "cell_type": "code",
   "execution_count": 39,
   "id": "c04dd652",
   "metadata": {},
   "outputs": [
    {
     "name": "stdout",
     "output_type": "stream",
     "text": [
      "Enter the Student name : \n",
      "Enter OPERATION RESEARCH Number > \n"
     ]
    },
    {
     "ename": "ValueError",
     "evalue": "could not convert string to float: ''",
     "output_type": "error",
     "traceback": [
      "\u001b[1;31m---------------------------------------------------------------------------\u001b[0m",
      "\u001b[1;31mValueError\u001b[0m                                Traceback (most recent call last)",
      "\u001b[1;32m~\\AppData\\Local\\Temp\\ipykernel_4464\\1651810909.py\u001b[0m in \u001b[0;36m<module>\u001b[1;34m\u001b[0m\n\u001b[0;32m      1\u001b[0m \u001b[0mname\u001b[0m \u001b[1;33m=\u001b[0m \u001b[0minput\u001b[0m\u001b[1;33m(\u001b[0m\u001b[1;34m\"Enter the Student name : \"\u001b[0m\u001b[1;33m)\u001b[0m\u001b[1;33m\u001b[0m\u001b[1;33m\u001b[0m\u001b[0m\n\u001b[0;32m      2\u001b[0m \u001b[1;33m\u001b[0m\u001b[0m\n\u001b[1;32m----> 3\u001b[1;33m \u001b[0mot\u001b[0m \u001b[1;33m=\u001b[0m \u001b[0mfloat\u001b[0m\u001b[1;33m(\u001b[0m\u001b[0minput\u001b[0m\u001b[1;33m(\u001b[0m\u001b[1;34m'Enter OPERATION RESEARCH Number > '\u001b[0m\u001b[1;33m)\u001b[0m\u001b[1;33m)\u001b[0m\u001b[1;33m\u001b[0m\u001b[1;33m\u001b[0m\u001b[0m\n\u001b[0m\u001b[0;32m      4\u001b[0m \u001b[0mpy\u001b[0m \u001b[1;33m=\u001b[0m \u001b[0mfloat\u001b[0m\u001b[1;33m(\u001b[0m\u001b[0minput\u001b[0m\u001b[1;33m(\u001b[0m\u001b[1;34m'Enter Phthon Number > '\u001b[0m\u001b[1;33m)\u001b[0m\u001b[1;33m)\u001b[0m\u001b[1;33m\u001b[0m\u001b[1;33m\u001b[0m\u001b[0m\n\u001b[0;32m      5\u001b[0m \u001b[0mds\u001b[0m \u001b[1;33m=\u001b[0m \u001b[0mfloat\u001b[0m\u001b[1;33m(\u001b[0m\u001b[0minput\u001b[0m\u001b[1;33m(\u001b[0m\u001b[1;34m'Enter DSA Number > '\u001b[0m\u001b[1;33m)\u001b[0m\u001b[1;33m)\u001b[0m\u001b[1;33m\u001b[0m\u001b[1;33m\u001b[0m\u001b[0m\n",
      "\u001b[1;31mValueError\u001b[0m: could not convert string to float: ''"
     ]
    }
   ],
   "source": [
    "name = input(\"Enter the Student name : \")\n",
    "\n",
    "ot = float(input('Enter OPERATION RESEARCH Number > '))\n",
    "py = float(input('Enter Phthon Number > '))\n",
    "ds = float(input('Enter DSA Number > '))\n",
    "ja = float(input('Enter JAVA Number > '))\n",
    "dv = float(input('Enter DVMS Number > '))\n",
    "print(\"Name of The Student >> \" , name)\n",
    "\n",
    "#1\n",
    "if ot >= 91 and ot <= 100:\n",
    "    print(f\"OPERATION RESEARCH's number is {ot} & gread is >> A+\")\n",
    "elif ot >= 80 and ot <= 90:\n",
    "        print(f\"OPERATION RESEARCH's number is {ot} & gread is >> A\")\n",
    "elif ot >= 70 and ot <= 79:\n",
    "        print(f\"OPERATION RESEARCH's number is {ot} & gread is >> B\")\n",
    "elif ot >= 60 and ot <= 69:\n",
    "        print(f\"OPERATION RESEARCH's number is {ot} & gread is >> C\")\n",
    "elif ot >= 50 and ot <= 59:\n",
    "        print(f\"OPERATION RESEARCH's number is {ot} & gread is >> D\")\n",
    "elif ot >= 40 and ot <= 49:\n",
    "        print(f\"OPERATION RESEARCH's number is {ot} & gread is >> E\")\n",
    "else:\n",
    "        print(f\"OPERATION RESEARCH's number is {ot} & YOU ARE NOT QULIFIED..\")\n",
    "\n",
    "#2\n",
    "if py >= 91 and py <= 100:\n",
    "    print(f\"Python's number is {py} & gread is >> A+\")\n",
    "elif py >= 80 and py <= 90:\n",
    "        print(f\"Python's number is {py} & gread is >> A\")\n",
    "elif py >= 70 and py <= 79:\n",
    "        print(f\"Python's number is {py} & gread is >> B\")\n",
    "elif py >= 60 and py <= 69:\n",
    "        print(f\"Python's number is {py} & gread is >> C\")\n",
    "elif py >= 50 and py <= 59:\n",
    "        print(f\"Python's number is {py} & gread is >> D\")\n",
    "elif py >= 40 and py <= 49:\n",
    "        print(f\"Python's number is {py} & gread is >> E\")\n",
    "else:\n",
    "        print(f\"You are not qualified IN PYTHON ! Your marks is > {py}\")\n",
    "\n",
    "#3       \n",
    "if ds >= 91 and ds <= 100:\n",
    "    print(f\"Data Structure's number is : {ds} & gread is >> A+\")\n",
    "elif ds >= 80 and ds <= 90:\n",
    "        print(f\"Data Structure's number is : {ds} & gread is >> A\")\n",
    "elif ds >= 70 and ds <= 79:\n",
    "        print(f\"Data Structure's number is : {ds} & gread is >> B\")\n",
    "elif ds >= 60 and ds <= 69:\n",
    "        print(f\"Data Structure's number is : {ds} & gread is >> C\")\n",
    "elif ds >= 50 and ds <= 59:\n",
    "        print(f\"Data Structure's number is : {ds} & gread is >> D\")\n",
    "elif ds >= 40 and ds <= 49:\n",
    "        print(f\"Data Structure's number is : {ds} & gread is >> E\")\n",
    "else:\n",
    "        print(f\"Data Structure's number is : & you are not qualified! Your marks is > {ds}\")\n",
    "\n",
    "#4\n",
    "if ja >= 91 and ja <= 100:\n",
    "    print(f\"Java's Number is : {ja} & gread is >> A+\")\n",
    "elif ja >= 80 and ja <= 90:\n",
    "        print(f\"Java's Number is : {ja} & gread is >> A\")\n",
    "elif ja >= 70 and ja <= 79:\n",
    "        print(f\"Java's Number is : {ja} & gread is >> B\")\n",
    "elif ja >= 60 and ja <= 69:\n",
    "        print(f\"Java's Number is : {ja} & gread is >> C\")\n",
    "elif ja >= 50 and ja <= 59:\n",
    "        print(f\"Java's Number is : {ja} & gread is >> D\")\n",
    "elif ja >= 40 and ja <= 49:\n",
    "        print(f\"Java's Number is : {ja} & gread is >> E\")\n",
    "else:\n",
    "        print(f\"You are not qualified in Java ! Your marks is > {ja}\")\n",
    " \n",
    "#5\n",
    "if dv >= 91 and dv <= 100:\n",
    "    print(f\"DVMS's number is :  {dv} & gread is >> A+\")\n",
    "elif dv >= 80 and py <= 90:\n",
    "        print(f\"DVMS's number is :  {dv} & gread is >> A\")\n",
    "elif dv >= 70 and dv <= 79:\n",
    "        print(f\"DVMS's number is :  {dv} & gread is >> B\")\n",
    "elif dv >= 60 and dv <= 69:\n",
    "        print(f\"DVMS's number is :  {dv} & gread is >> C\")\n",
    "elif dv >= 50 and dv <= 59:\n",
    "        print(f\"DVMS's number is :  {dv} & gread is >> D\")\n",
    "elif dv >= 40 and dv <= 49:\n",
    "        print(f\"DVMS's number is :  {dv} & gread is >> E\")\n",
    "else:\n",
    "        print(f\"DVMS's number is : & are not qualified in DVMS ! Your marks is > {dv}\")\n",
    "\n",
    "print(f'Best Of Luck {name} for Your Future ... ')"
   ]
  },
  {
   "cell_type": "code",
   "execution_count": 40,
   "id": "ce2bb056",
   "metadata": {},
   "outputs": [
    {
     "name": "stdout",
     "output_type": "stream",
     "text": [
      "Enter the Student name : \n",
      "Enter Name of Subject 1 >> \n",
      "Enter  Number > \n"
     ]
    },
    {
     "ename": "ValueError",
     "evalue": "could not convert string to float: ''",
     "output_type": "error",
     "traceback": [
      "\u001b[1;31m---------------------------------------------------------------------------\u001b[0m",
      "\u001b[1;31mValueError\u001b[0m                                Traceback (most recent call last)",
      "\u001b[1;32m~\\AppData\\Local\\Temp\\ipykernel_4464\\1848023726.py\u001b[0m in \u001b[0;36m<module>\u001b[1;34m\u001b[0m\n\u001b[0;32m      2\u001b[0m \u001b[1;33m\u001b[0m\u001b[0m\n\u001b[0;32m      3\u001b[0m \u001b[0msub1\u001b[0m \u001b[1;33m=\u001b[0m \u001b[0minput\u001b[0m\u001b[1;33m(\u001b[0m\u001b[1;34m'Enter Name of Subject 1 >> '\u001b[0m\u001b[1;33m)\u001b[0m\u001b[1;33m\u001b[0m\u001b[1;33m\u001b[0m\u001b[0m\n\u001b[1;32m----> 4\u001b[1;33m \u001b[0mot\u001b[0m \u001b[1;33m=\u001b[0m \u001b[0mfloat\u001b[0m\u001b[1;33m(\u001b[0m\u001b[0minput\u001b[0m\u001b[1;33m(\u001b[0m\u001b[1;34mf'Enter {sub1} Number > '\u001b[0m\u001b[1;33m)\u001b[0m\u001b[1;33m)\u001b[0m\u001b[1;33m\u001b[0m\u001b[1;33m\u001b[0m\u001b[0m\n\u001b[0m\u001b[0;32m      5\u001b[0m \u001b[0msub2\u001b[0m \u001b[1;33m=\u001b[0m \u001b[0minput\u001b[0m\u001b[1;33m(\u001b[0m\u001b[1;34m'Enter Name of Subject 2 >> '\u001b[0m\u001b[1;33m)\u001b[0m\u001b[1;33m\u001b[0m\u001b[1;33m\u001b[0m\u001b[0m\n\u001b[0;32m      6\u001b[0m \u001b[0mpy\u001b[0m \u001b[1;33m=\u001b[0m \u001b[0mfloat\u001b[0m\u001b[1;33m(\u001b[0m\u001b[0minput\u001b[0m\u001b[1;33m(\u001b[0m\u001b[1;34mf'Enter {sub2} Number > '\u001b[0m\u001b[1;33m)\u001b[0m\u001b[1;33m)\u001b[0m\u001b[1;33m\u001b[0m\u001b[1;33m\u001b[0m\u001b[0m\n",
      "\u001b[1;31mValueError\u001b[0m: could not convert string to float: ''"
     ]
    }
   ],
   "source": [
    "name = input(\"Enter the Student name : \")\n",
    "\n",
    "sub1 = input('Enter Name of Subject 1 >> ')\n",
    "ot = float(input(f'Enter {sub1} Number > '))\n",
    "sub2 = input('Enter Name of Subject 2 >> ')\n",
    "py = float(input(f'Enter {sub2} Number > '))\n",
    "sub3 = input('Enter Name of Subject 3 >> ')\n",
    "ds = float(input(f'Enter {sub3} Number > '))\n",
    "sub4 = input('Enter Name of Subject 4 >> ')\n",
    "ja = float(input(f'Enter {sub4} Number > '))\n",
    "sub5 = input('Enter Name of Subject 5 >> ')\n",
    "dv = float(input(f'Enter {sub5} Number > '))\n",
    "\n",
    "print(\"Name of The Student >> \" , name)\n",
    "\n",
    "#1\n",
    "if ot >= 91 and ot <= 100:\n",
    "    print(f\"{sub1}'s number is {ot} & gread is >> A+\")\n",
    "elif ot >= 80 and ot <= 90:\n",
    "        print(f\"{sub1}'s number is {ot} & gread is >> A\")\n",
    "elif ot >= 70 and ot <= 79:\n",
    "        print(f\"{sub1}'s number is {ot} & gread is >> B\")\n",
    "elif ot >= 60 and ot <= 69:\n",
    "        print(f\"{sub1}'s number is {ot} & gread is >> C\")\n",
    "elif ot >= 50 and ot <= 59:\n",
    "        print(f\"{sub1}'s number is {ot} & gread is >> D\")\n",
    "elif ot >= 40 and ot <= 49:\n",
    "        print(f\"{sub1}'s number is {ot} & gread is >> E\")\n",
    "else:\n",
    "        print(f\"{sub1}'s number is {ot} & YOU ARE NOT QULIFIED..\")\n",
    "\n",
    "#2\n",
    "if py >= 91 and py <= 100:\n",
    "    print(f\"{sub2}'s number is {py} & gread is >> A+\")\n",
    "elif py >= 80 and py <= 90:\n",
    "        print(f\"{sub2}'s number is {py} & gread is >> A\")\n",
    "elif py >= 70 and py <= 79:\n",
    "        print(f\"{sub2}'s number is {py} & gread is >> B\")\n",
    "elif py >= 60 and py <= 69:\n",
    "        print(f\"{sub2}'s number is {py} & gread is >> C\")\n",
    "elif py >= 50 and py <= 59:\n",
    "        print(f\"{sub2}'s number is {py} & gread is >> D\")\n",
    "elif py >= 40 and py <= 49:\n",
    "        print(f\"{sub2}'s number is {py} & gread is >> E\")\n",
    "else:\n",
    "        print(f\"You are not qualified IN {sub2} ! Your marks is > {py}\")\n",
    "\n",
    "#3       \n",
    "if ds >= 91 and ds <= 100:\n",
    "    print(f\"{sub3}'s number is : {ds} & gread is >> A+\")\n",
    "elif ds >= 80 and ds <= 90:\n",
    "        print(f\"{sub3}'s number is : {ds} & gread is >> A\")\n",
    "elif ds >= 70 and ds <= 79:\n",
    "        print(f\"{sub3}'s number is : {ds} & gread is >> B\")\n",
    "elif ds >= 60 and ds <= 69:\n",
    "        print(f\"{sub3}'s number is : {ds} & gread is >> C\")\n",
    "elif ds >= 50 and ds <= 59:\n",
    "        print(f\"{sub3}'s number is : {ds} & gread is >> D\")\n",
    "elif ds >= 40 and ds <= 49:\n",
    "        print(f\"{sub3}'s number is : {ds} & gread is >> E\")\n",
    "else:\n",
    "        print(f\"{sub3}'s number is : & you are not qualified! Your marks is > {ds}\")\n",
    "\n",
    "#4\n",
    "if ja >= 91 and ja <= 100:\n",
    "    print(f\"{sub4}'s Number is : {ja} & gread is >> A+\")\n",
    "elif ja >= 80 and ja <= 90:\n",
    "        print(f\"{sub4}'s Number is : {ja} & gread is >> A\")\n",
    "elif ja >= 70 and ja <= 79:\n",
    "        print(f\"{sub4}'s Number is : {ja} & gread is >> B\")\n",
    "elif ja >= 60 and ja <= 69:\n",
    "        print(f\"{sub4}'s Number is : {ja} & gread is >> C\")\n",
    "elif ja >= 50 and ja <= 59:\n",
    "        print(f\"{sub4}'s Number is : {ja} & gread is >> D\")\n",
    "elif ja >= 40 and ja <= 49:\n",
    "        print(f\"{sub4}'s Number is : {ja} & gread is >> E\")\n",
    "else:\n",
    "        print(f\"You are not qualified in {sub4} ! Your marks is > {ja}\")\n",
    " \n",
    "#5\n",
    "if dv >= 91 and dv <= 100:\n",
    "    print(f\"{sub5}'s number is :  {dv} & gread is >> A+\")\n",
    "elif dv >= 80 and py <= 90:\n",
    "        print(f\"{sub5}'s number is :  {dv} & gread is >> A\")\n",
    "elif dv >= 70 and dv <= 79:\n",
    "        print(f\"{sub5}'s number is :  {dv} & gread is >> B\")\n",
    "elif dv >= 60 and dv <= 69:\n",
    "        print(f\"{sub5}'s number is :  {dv} & gread is >> C\")\n",
    "elif dv >= 50 and dv <= 59:\n",
    "        print(f\"{sub5}'s number is :  {dv} & gread is >> D\")\n",
    "elif dv >= 40 and dv <= 49:\n",
    "        print(f\"DVMS's number is :  {dv} & gread is >> E\")\n",
    "else:\n",
    "        print(f\"{sub5}'s number is : & are not qualified in {sub5} ! Your marks is > {dv}\")\n",
    "        \n",
    "total = ot+ds+ja+dv+py      \n",
    "avg = (total*100)//5\n",
    "print(f\"Your Total Marks is = {total} & Avarage marks is = {avg}\")\n",
    "\n",
    "print(f'Best Of Luck {name} for Your Future ... ')"
   ]
  }
 ],
 "metadata": {
  "kernelspec": {
   "display_name": "Python 3 (ipykernel)",
   "language": "python",
   "name": "python3"
  },
  "language_info": {
   "codemirror_mode": {
    "name": "ipython",
    "version": 3
   },
   "file_extension": ".py",
   "mimetype": "text/x-python",
   "name": "python",
   "nbconvert_exporter": "python",
   "pygments_lexer": "ipython3",
   "version": "3.9.13"
  }
 },
 "nbformat": 4,
 "nbformat_minor": 5
}
