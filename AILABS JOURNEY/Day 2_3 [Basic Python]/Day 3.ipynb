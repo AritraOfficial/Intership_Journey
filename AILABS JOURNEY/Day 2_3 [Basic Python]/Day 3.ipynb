{
 "cells": [
  {
   "cell_type": "markdown",
   "id": "80f7af8b",
   "metadata": {},
   "source": [
    "# AILABS DAY :: 3"
   ]
  },
  {
   "cell_type": "markdown",
   "id": "00eac541",
   "metadata": {},
   "source": [
    "                                                                                                   Date = 20.06.2023"
   ]
  },
  {
   "cell_type": "code",
   "execution_count": null,
   "id": "a8a3da2d",
   "metadata": {},
   "outputs": [],
   "source": [
    "x = 3\n",
    "y = 5\n",
    "z = 9\n",
    "((x**2)+(y**2)+(x**2))**0.5"
   ]
  },
  {
   "cell_type": "code",
   "execution_count": null,
   "id": "8679f3a4",
   "metadata": {},
   "outputs": [],
   "source": [
    "#you are a company , you check the name length is bigger then 15 or not\n",
    "fname = input(\"Enter Your First Name : \")\n",
    "lname = input('Enter your last name : ')\n",
    "name = fname + lname\n",
    "if len(name) <= 15:\n",
    "    print(f\"Your name {name}'s Length is smaller then 15.'\")   \n",
    "elif len(name) >= 15:\n",
    "    print(f'Your name{name} is bigger then 15.')\n",
    "else:\n",
    "    print(\"Enter valid input.\")"
   ]
  },
  {
   "cell_type": "code",
   "execution_count": null,
   "id": "1a8ce7eb",
   "metadata": {},
   "outputs": [],
   "source": [
    "#QU3 >> \n",
    "mon, tue, wed, thu, fri, sat, sun, sum = 121,131,141,150,190,450,1000,(mon+tue+wed+thu+fri+sat+sun)\n",
    "print(f'Weekly Total sales is = {sum}' )\n",
    "#use concatinae\n",
    "# s = str(sum)\n",
    "print(f'Weekly Total sales is = ' + s )"
   ]
  },
  {
   "cell_type": "markdown",
   "id": "ecc02c81",
   "metadata": {},
   "source": [
    "----"
   ]
  },
  {
   "cell_type": "markdown",
   "id": "37062bfa",
   "metadata": {},
   "source": [
    "Upper case || Find || Count"
   ]
  },
  {
   "cell_type": "code",
   "execution_count": null,
   "id": "786e16dd",
   "metadata": {},
   "outputs": [],
   "source": [
    "n = \"Ailabs welcome you\"\n",
    "n.upper()"
   ]
  },
  {
   "cell_type": "code",
   "execution_count": null,
   "id": "38d4fc72",
   "metadata": {},
   "outputs": [],
   "source": [
    "n.find('A') #find the index position"
   ]
  },
  {
   "cell_type": "code",
   "execution_count": null,
   "id": "274ea741",
   "metadata": {},
   "outputs": [],
   "source": [
    "n.count('e') #count how many times located."
   ]
  },
  {
   "cell_type": "markdown",
   "id": "0cbf95b3",
   "metadata": {},
   "source": [
    "Format..."
   ]
  },
  {
   "cell_type": "code",
   "execution_count": null,
   "id": "1c17f82d",
   "metadata": {},
   "outputs": [],
   "source": [
    "a = 5\n",
    "b = 8\n",
    "print('The value of a is {} and b is {}'.format(a,b))"
   ]
  },
  {
   "cell_type": "markdown",
   "id": "819b2e2b",
   "metadata": {},
   "source": [
    "# FUNCTION"
   ]
  },
  {
   "cell_type": "code",
   "execution_count": null,
   "id": "f1d49da5",
   "metadata": {},
   "outputs": [],
   "source": [
    "l = [21,2,4,5,89,500]\n",
    "print(max(l))\n",
    "print(min(l))"
   ]
  },
  {
   "cell_type": "code",
   "execution_count": null,
   "id": "89d87f77",
   "metadata": {},
   "outputs": [],
   "source": [
    "student = 'Aritra'\n",
    "print(max(student))\n",
    "print(min(student))"
   ]
  },
  {
   "cell_type": "code",
   "execution_count": null,
   "id": "e1aef337",
   "metadata": {},
   "outputs": [],
   "source": [
    "student = ['Aritra', 'Alian','Ailabs']\n",
    "student.sort()\n",
    "student"
   ]
  },
  {
   "cell_type": "code",
   "execution_count": null,
   "id": "1b6e625b",
   "metadata": {},
   "outputs": [],
   "source": [
    "#join \n",
    "name = \"_\".join(['Akash','o','Lantern'])\n",
    "print(name)\n",
    "name = \"\\n\".join(['Akash','o','Lantern'])\n",
    "print(name)"
   ]
  },
  {
   "cell_type": "markdown",
   "id": "a85794dc",
   "metadata": {},
   "source": [
    "Unpacking"
   ]
  },
  {
   "cell_type": "code",
   "execution_count": null,
   "id": "48402cfa",
   "metadata": {},
   "outputs": [],
   "source": [
    "var1 ,  var2 = 5,4"
   ]
  },
  {
   "cell_type": "code",
   "execution_count": null,
   "id": "e80a1365",
   "metadata": {},
   "outputs": [],
   "source": [
    "var1, var2 = [25,50]"
   ]
  },
  {
   "cell_type": "code",
   "execution_count": null,
   "id": "98fdbeff",
   "metadata": {},
   "outputs": [],
   "source": [
    "var1"
   ]
  },
  {
   "cell_type": "code",
   "execution_count": null,
   "id": "fba8f5cf",
   "metadata": {},
   "outputs": [],
   "source": [
    "var2"
   ]
  },
  {
   "cell_type": "markdown",
   "id": "717e179b",
   "metadata": {},
   "source": [
    "-------"
   ]
  },
  {
   "cell_type": "code",
   "execution_count": null,
   "id": "71648f16",
   "metadata": {},
   "outputs": [],
   "source": [
    "def name_print():\n",
    "    print(\"Hello World...\")\n",
    "    \n",
    "print(\"Welcome\")\n",
    "name_print()"
   ]
  },
  {
   "cell_type": "markdown",
   "id": "0999fb68",
   "metadata": {},
   "source": [
    "DOC STRING is a multiline comment."
   ]
  },
  {
   "cell_type": "code",
   "execution_count": null,
   "id": "9366981a",
   "metadata": {},
   "outputs": [],
   "source": [
    "def name():\n",
    "    '''I am Artira\n",
    "Now I am in AILBS'''\n",
    "    \n",
    "print('Welcome')\n",
    "name()"
   ]
  },
  {
   "cell_type": "code",
   "execution_count": null,
   "id": "9f1596ff",
   "metadata": {},
   "outputs": [],
   "source": [
    "name.__doc__"
   ]
  },
  {
   "cell_type": "code",
   "execution_count": null,
   "id": "bd47ad90",
   "metadata": {},
   "outputs": [],
   "source": [
    "#abs()   giving the mod value\n",
    "num = -200\n",
    "abs(num)"
   ]
  },
  {
   "cell_type": "code",
   "execution_count": null,
   "id": "64168015",
   "metadata": {},
   "outputs": [],
   "source": [
    "#all()\n",
    "\n",
    "List = [4,6,67,78,9,5,34,3456,890]\n",
    "all(List)"
   ]
  },
  {
   "cell_type": "code",
   "execution_count": null,
   "id": "ad446f8b",
   "metadata": {},
   "outputs": [],
   "source": [
    "#dir()\n",
    "dir(List)"
   ]
  },
  {
   "cell_type": "code",
   "execution_count": 4,
   "id": "48d5463f",
   "metadata": {},
   "outputs": [
    {
     "data": {
      "text/plain": [
       "10"
      ]
     },
     "execution_count": 4,
     "metadata": {},
     "output_type": "execute_result"
    }
   ],
   "source": [
    "var = range(0,10)\n",
    "len(var)"
   ]
  },
  {
   "cell_type": "code",
   "execution_count": 5,
   "id": "2d85e234",
   "metadata": {},
   "outputs": [],
   "source": [
    "var1 = range(0,10)\n",
    "def square(num):\n",
    "    if num%2 == 0:\n",
    "        return num ** 2\n",
    "    "
   ]
  },
  {
   "cell_type": "code",
   "execution_count": 8,
   "id": "1bc27ecc",
   "metadata": {},
   "outputs": [
    {
     "data": {
      "text/plain": [
       "[0, None, 4, None, 16, None, 36, None, 64, None]"
      ]
     },
     "execution_count": 8,
     "metadata": {},
     "output_type": "execute_result"
    }
   ],
   "source": [
    "squared=list(map(square,var1))\n",
    "squared"
   ]
  },
  {
   "cell_type": "code",
   "execution_count": 7,
   "id": "33740fad",
   "metadata": {},
   "outputs": [
    {
     "data": {
      "text/plain": [
       "[2, 4, 6, 8]"
      ]
     },
     "execution_count": 7,
     "metadata": {},
     "output_type": "execute_result"
    }
   ],
   "source": [
    "squared=list(filter(square,var1))\n",
    "squared"
   ]
  },
  {
   "cell_type": "code",
   "execution_count": null,
   "id": "aa26e1b5",
   "metadata": {},
   "outputs": [],
   "source": [
    "#reduce"
   ]
  },
  {
   "cell_type": "markdown",
   "id": "3f2cab9a",
   "metadata": {},
   "source": [
    "0-50\n",
    "randomly number choice \n",
    "now user will get 5 changes ..\n",
    "user have to gess the real number.\n",
    "otherwise best of luck for next time."
   ]
  },
  {
   "cell_type": "code",
   "execution_count": 6,
   "id": "b467b1f7",
   "metadata": {},
   "outputs": [
    {
     "name": "stdout",
     "output_type": "stream",
     "text": [
      "--------- W E L C O M E  T O  Y O U R  G A M E -----------\n",
      " Game Rule: User Can Get 5 chances to guess The Real Number is 0 from 50. (It not to be A float & String)\n",
      "if you are interested to play pls enter Yes , not then No\n",
      "You are interested to Play Game ? Choice[Yes/No] >> y\n",
      "Enter Your Number ::43\n",
      "WOW ! You Are The Winner... \n"
     ]
    }
   ],
   "source": [
    "print(\"--------- W E L C O M E  T O  Y O U R  G A M E -----------\")\n",
    "print(''' Game Rule: User Can Get 5 chances to guess The Real Number is 0 from 50. (It not to be A float & String)\n",
    "if you are interested to play pls enter Yes , not then No''')\n",
    "\n",
    "Game_real_number = 43\n",
    "\n",
    "user_choice = input(\"You are interested to Play Game ? Choice[Yes/No] >> \")\n",
    "\n",
    "if user_choice in ['Yes', 'YES', 'Y', 'yes', 'y']:\n",
    "    user_num = int(input('Enter Your Number ::'))\n",
    "    if user_num == Game_real_number:\n",
    "        print(\"WOW ! You Are The Winner... \")\n",
    "    else:\n",
    "        print(\"Try to choice the exact Number. \")\n",
    "        print(\"You have 5 attempts to choice the Real Number..., [Super hints - The Real Number is in between 35-49]\")\n",
    "        for i in range(5):\n",
    "            a = input(\"Enter Your Number > \")\n",
    "            print(f\"You Choice {a}\")\n",
    "            print(\"B e s t  o f  L u c k  f o r  N e x t  T i m e.\")\n",
    "\n",
    "elif user_choice in ['No', 'NO', 'N', 'no', 'n']:\n",
    "    print(\"Thank You For Visit...\")\n",
    "else:\n",
    "    print(\"Please enter a valid input.\")\n",
    "\n",
    "#user_name != Game_real_number:"
   ]
  },
  {
   "cell_type": "code",
   "execution_count": 3,
   "id": "37f4fd8b",
   "metadata": {},
   "outputs": [
    {
     "name": "stdout",
     "output_type": "stream",
     "text": [
      "guess a number between 1 and 50: 5\n",
      "nope, sorry. try again!\n",
      "guess a number between 1 and 50: 6\n",
      "nope, sorry. try again!\n",
      "guess a number between 1 and 50: 8\n",
      "nope, sorry. try again!\n",
      "guess a number between 1 and 50: 20\n",
      "nope, sorry. try again!\n",
      "guess a number between 1 and 50: 3\n",
      "nope, sorry. try again!\n",
      "guess a number between 1 and 50: 7\n",
      "congratulations! you won!\n",
      "Matched after 5 tries\n"
     ]
    }
   ],
   "source": [
    "import random\n",
    "num = random.randint(1, 10)\n",
    "guess = None\n",
    "ctr=0\n",
    "while guess != num:\n",
    "    guess = int(input(\"guess a number between 1 and 50: \"))\n",
    "\n",
    "    if guess == num:\n",
    "        print(\"congratulations! you won!\")\n",
    "        break\n",
    "    else:\n",
    "        print(\"nope, sorry. try again!\")\n",
    "        ctr=ctr+1\n",
    "print('Matched after',ctr, 'tries')"
   ]
  },
  {
   "cell_type": "code",
   "execution_count": null,
   "id": "4e7c275a",
   "metadata": {},
   "outputs": [],
   "source": []
  }
 ],
 "metadata": {
  "kernelspec": {
   "display_name": "Python 3 (ipykernel)",
   "language": "python",
   "name": "python3"
  },
  "language_info": {
   "codemirror_mode": {
    "name": "ipython",
    "version": 3
   },
   "file_extension": ".py",
   "mimetype": "text/x-python",
   "name": "python",
   "nbconvert_exporter": "python",
   "pygments_lexer": "ipython3",
   "version": "3.9.13"
  }
 },
 "nbformat": 4,
 "nbformat_minor": 5
}
